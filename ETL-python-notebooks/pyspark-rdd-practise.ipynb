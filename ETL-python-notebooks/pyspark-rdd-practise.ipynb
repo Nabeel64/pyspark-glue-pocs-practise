{
  "nbformat": 4,
  "nbformat_minor": 0,
  "metadata": {
    "colab": {
      "provenance": []
    },
    "kernelspec": {
      "name": "python3",
      "display_name": "Python 3"
    },
    "language_info": {
      "name": "python"
    }
  },
  "cells": [
    {
      "cell_type": "code",
      "execution_count": null,
      "metadata": {
        "colab": {
          "base_uri": "https://localhost:8080/"
        },
        "id": "cnT2aUf7if8k",
        "outputId": "62c6be99-ca2c-4780-e407-f59ac9fe0ee5"
      },
      "outputs": [
        {
          "output_type": "stream",
          "name": "stdout",
          "text": [
            "Hello\n"
          ]
        }
      ],
      "source": [
        "print(\"Hello\")"
      ]
    },
    {
      "cell_type": "code",
      "source": [
        "from pyspark import SparkConf, SparkContext"
      ],
      "metadata": {
        "id": "NIqOoPT3ipPt"
      },
      "execution_count": null,
      "outputs": []
    },
    {
      "cell_type": "code",
      "source": [
        "conf = SparkConf().setAppName(\"Read file\")"
      ],
      "metadata": {
        "id": "VuRu10cOi3TK"
      },
      "execution_count": null,
      "outputs": []
    },
    {
      "cell_type": "code",
      "source": [
        "sc= SparkContext.getOrCreate(conf=conf)"
      ],
      "metadata": {
        "id": "K2kxwj1pjBdb"
      },
      "execution_count": null,
      "outputs": []
    },
    {
      "cell_type": "code",
      "source": [
        "rdd= sc.textFile(\"/content/sample.txt.txt\")"
      ],
      "metadata": {
        "id": "B8WWNfTsjVDO"
      },
      "execution_count": null,
      "outputs": []
    },
    {
      "cell_type": "code",
      "source": [
        "rdd2=rdd.map(lambda x: x+ \"Nabeel\")"
      ],
      "metadata": {
        "id": "zD5h-v3VkQWQ"
      },
      "execution_count": null,
      "outputs": []
    },
    {
      "cell_type": "code",
      "source": [
        "rdd2.collect()"
      ],
      "metadata": {
        "colab": {
          "base_uri": "https://localhost:8080/"
        },
        "id": "r0ysJKgxkTCl",
        "outputId": "764df5f0-f5f9-4ca2-d7e4-ef73a53fe3fe"
      },
      "execution_count": null,
      "outputs": [
        {
          "output_type": "execute_result",
          "data": {
            "text/plain": [
              "['1 2 4 5Nabeel', '2 45 66 77 7Nabeel', '1 3 5 6Nabeel', '23Nabeel']"
            ]
          },
          "metadata": {},
          "execution_count": 31
        }
      ]
    },
    {
      "cell_type": "code",
      "source": [
        "def foo(x):\n",
        "  return x.split(' ')\n",
        "\n",
        "rdd.map(foo).collect()"
      ],
      "metadata": {
        "colab": {
          "base_uri": "https://localhost:8080/"
        },
        "id": "6FeXM5run7tk",
        "outputId": "dd46b6d9-0e8a-40fa-cd07-1beed89017f5"
      },
      "execution_count": null,
      "outputs": [
        {
          "output_type": "execute_result",
          "data": {
            "text/plain": [
              "[['1', '2', '4', '5'],\n",
              " ['2', '45', '66', '77', '7'],\n",
              " ['1', '3', '5', '6'],\n",
              " ['23']]"
            ]
          },
          "metadata": {},
          "execution_count": 30
        }
      ]
    },
    {
      "cell_type": "code",
      "source": [
        "qd=sc.textFile(\"/content/quiz.txt\")\n",
        "qd.collect()"
      ],
      "metadata": {
        "colab": {
          "base_uri": "https://localhost:8080/"
        },
        "id": "H_Nz1RVlpuV4",
        "outputId": "a5023ed6-0141-42bb-ce16-1c8871ab6566"
      },
      "execution_count": null,
      "outputs": [
        {
          "output_type": "execute_result",
          "data": {
            "text/plain": [
              "['Hi how are you?', 'Hope you are doing', 'great']"
            ]
          },
          "metadata": {},
          "execution_count": 59
        }
      ]
    },
    {
      "cell_type": "code",
      "source": [
        "def transform(item):\n",
        "  l1=item.split(' ')\n",
        "  l2=[]\n",
        "  for i in l1:\n",
        "    l2.append(len(i))\n",
        "  return l2\n",
        "\n",
        "qd1=qd.map(transform)\n",
        "\n",
        "\n"
      ],
      "metadata": {
        "id": "DqyZ8Svss6Ah"
      },
      "execution_count": null,
      "outputs": []
    },
    {
      "cell_type": "code",
      "source": [
        "qd1.flatMap(lambda x: x).collect()"
      ],
      "metadata": {
        "colab": {
          "base_uri": "https://localhost:8080/"
        },
        "id": "2xHoeFkltTp2",
        "outputId": "e86c4f24-0757-47a8-a6a3-8d3cab000098"
      },
      "execution_count": null,
      "outputs": [
        {
          "output_type": "execute_result",
          "data": {
            "text/plain": [
              "[2, 3, 3, 4, 4, 3, 3, 5, 5]"
            ]
          },
          "metadata": {},
          "execution_count": 62
        }
      ]
    },
    {
      "cell_type": "code",
      "source": [
        "sq=sc.textFile(\"/content/quiz.txt\")"
      ],
      "metadata": {
        "id": "iBcye_WBuZMW"
      },
      "execution_count": null,
      "outputs": []
    },
    {
      "cell_type": "code",
      "source": [
        "sq.map(lambda x: x.split(' ')).flatMap(lambda x: x).filter(lambda x: not x.startswith('c')).filter(lambda x: not x.startswith('a')).collect()"
      ],
      "metadata": {
        "colab": {
          "base_uri": "https://localhost:8080/"
        },
        "id": "JL-MO97cmAo-",
        "outputId": "17d8591a-2970-4d65-8a72-3b762e1626b8"
      },
      "execution_count": null,
      "outputs": [
        {
          "output_type": "execute_result",
          "data": {
            "text/plain": [
              "['this', 'mango', 'dog', 'mic', 'laptop', 'switch', 'mobile']"
            ]
          },
          "metadata": {},
          "execution_count": 15
        }
      ]
    },
    {
      "cell_type": "code",
      "source": [
        "\n",
        "sq.flatMap(lambda x: x.split(' ')).map(lambda x: (x,1)).reduceByKey(lambda x,y: x+y).collect()"
      ],
      "metadata": {
        "colab": {
          "base_uri": "https://localhost:8080/"
        },
        "id": "p-ZaRoHFmCDS",
        "outputId": "e6a4fd70-51c0-47a2-ef1c-014d8bc3c9c2"
      },
      "execution_count": null,
      "outputs": [
        {
          "output_type": "execute_result",
          "data": {
            "text/plain": [
              "[('this', 1),\n",
              " ('dog', 1),\n",
              " ('ant', 2),\n",
              " ('mic', 1),\n",
              " ('laptop', 1),\n",
              " ('chair', 1),\n",
              " ('charger', 1),\n",
              " ('cover', 1),\n",
              " ('alarm', 1),\n",
              " ('mango', 1),\n",
              " ('company', 1),\n",
              " ('animal', 1),\n",
              " ('cat', 1),\n",
              " ('switch', 1),\n",
              " ('mobile', 1),\n",
              " ('am', 1),\n",
              " ('amanda', 1),\n",
              " ('any', 1)]"
            ]
          },
          "metadata": {},
          "execution_count": 24
        }
      ]
    },
    {
      "cell_type": "code",
      "source": [
        "from pyspark import SparkConf, SparkContext\n",
        "conf = SparkConf().setAppName(\"Average\")\n",
        "sc= SparkContext.getOrCreate(conf=conf)"
      ],
      "metadata": {
        "id": "apm2piMb1Npf"
      },
      "execution_count": null,
      "outputs": []
    },
    {
      "cell_type": "code",
      "source": [
        "rdd=sc.textFile(\"/content/movie_ratings.csv\")\n",
        "rdd.collect()"
      ],
      "metadata": {
        "colab": {
          "base_uri": "https://localhost:8080/"
        },
        "id": "x8A8E7w-FYFO",
        "outputId": "684d1d7b-8e89-4b9e-c025-a445745bd032"
      },
      "execution_count": null,
      "outputs": [
        {
          "output_type": "execute_result",
          "data": {
            "text/plain": [
              "['The Shawshank Redemption,3',\n",
              " 'The Matrix,5',\n",
              " '12 Angry Men,3',\n",
              " '12 Angry Men,4',\n",
              " 'The Matrix,5',\n",
              " 'Pulp Fiction,4',\n",
              " 'The Godfather,5',\n",
              " 'The Shawshank Redemption,2',\n",
              " 'Pulp Fiction,4',\n",
              " 'The Godfather,5',\n",
              " '12 Angry Men,2',\n",
              " 'The Godfather,3',\n",
              " 'Pulp Fiction,4',\n",
              " '12 Angry Men,1',\n",
              " 'The Shawshank Redemption,2',\n",
              " '12 Angry Men,1',\n",
              " 'The Shawshank Redemption,5',\n",
              " 'Pulp Fiction,5',\n",
              " 'Pulp Fiction,2',\n",
              " 'The Matrix,4']"
            ]
          },
          "metadata": {},
          "execution_count": 18
        }
      ]
    },
    {
      "cell_type": "code",
      "source": [
        "rdd2=rdd.map(lambda x: (x.split(',')[0], int(x.split(',')[1])))"
      ],
      "metadata": {
        "id": "CPnO2GsRFwe9"
      },
      "execution_count": null,
      "outputs": []
    },
    {
      "cell_type": "code",
      "source": [
        "rdd2.collect()"
      ],
      "metadata": {
        "colab": {
          "base_uri": "https://localhost:8080/"
        },
        "id": "LFw4hDGzHLFa",
        "outputId": "6824e67f-5662-4c60-c01b-49c8c0c548ae"
      },
      "execution_count": null,
      "outputs": [
        {
          "output_type": "execute_result",
          "data": {
            "text/plain": [
              "[('The Shawshank Redemption', 3),\n",
              " ('The Matrix', 5),\n",
              " ('12 Angry Men', 3),\n",
              " ('12 Angry Men', 4),\n",
              " ('The Matrix', 5),\n",
              " ('Pulp Fiction', 4),\n",
              " ('The Godfather', 5),\n",
              " ('The Shawshank Redemption', 2),\n",
              " ('Pulp Fiction', 4),\n",
              " ('The Godfather', 5),\n",
              " ('12 Angry Men', 2),\n",
              " ('The Godfather', 3),\n",
              " ('Pulp Fiction', 4),\n",
              " ('12 Angry Men', 1),\n",
              " ('The Shawshank Redemption', 2),\n",
              " ('12 Angry Men', 1),\n",
              " ('The Shawshank Redemption', 5),\n",
              " ('Pulp Fiction', 5),\n",
              " ('Pulp Fiction', 2),\n",
              " ('The Matrix', 4)]"
            ]
          },
          "metadata": {},
          "execution_count": 21
        }
      ]
    },
    {
      "cell_type": "code",
      "source": [
        "rdd2.map(lambda x: (x[0],(x[1],1))).reduceByKey(lambda x,y: (x[0]+y[0],x[1]+y[1])).saveAsTextFile(\"/content/op1\")"
      ],
      "metadata": {
        "id": "IK1QdTCpHZ5J"
      },
      "execution_count": null,
      "outputs": []
    },
    {
      "cell_type": "code",
      "source": [
        "rdd=sc.textFile(\"/content/average_quiz_sample.csv\")"
      ],
      "metadata": {
        "id": "0XTD3nHNHupQ"
      },
      "execution_count": null,
      "outputs": []
    },
    {
      "cell_type": "code",
      "source": [
        "rdd2=rdd.map(lambda x: (x.split(',')[0],((float(x.split(',')[2]),1))))"
      ],
      "metadata": {
        "id": "ohBdUq5kkIjH"
      },
      "execution_count": null,
      "outputs": []
    },
    {
      "cell_type": "code",
      "source": [
        "rdd2.collect()"
      ],
      "metadata": {
        "colab": {
          "base_uri": "https://localhost:8080/"
        },
        "id": "JTJdO9dOkJzE",
        "outputId": "156edac7-5afc-4021-dc24-041974ae4e2d"
      },
      "execution_count": null,
      "outputs": [
        {
          "output_type": "execute_result",
          "data": {
            "text/plain": [
              "[('JAN', (3.0, 1)),\n",
              " ('JAN', (1.0, 1)),\n",
              " ('JAN', (2.0, 1)),\n",
              " ('JAN', (4.0, 1)),\n",
              " ('FEB', (1.0, 1)),\n",
              " ('FEB', (1.0, 1)),\n",
              " ('FEB', (2.0, 1)),\n",
              " ('FEB', (1.0, 1)),\n",
              " ('MAR', (2.0, 1)),\n",
              " ('MAR', (1.0, 1)),\n",
              " ('MAR', (2.0, 1)),\n",
              " ('MAR', (3.0, 1))]"
            ]
          },
          "metadata": {},
          "execution_count": 92
        }
      ]
    },
    {
      "cell_type": "code",
      "source": [
        "rdd2.reduceByKey(lambda x,y: (x[0]+y[0],x[1]+y[1])).map(lambda x: (x[0],(x[1][0]/x[1][1]))).collect()"
      ],
      "metadata": {
        "colab": {
          "base_uri": "https://localhost:8080/"
        },
        "id": "6B4v8tpPl_K_",
        "outputId": "51a9b0ce-f520-4747-ad2c-2b5122c74116"
      },
      "execution_count": null,
      "outputs": [
        {
          "output_type": "execute_result",
          "data": {
            "text/plain": [
              "[('JAN', 2.5), ('FEB', 1.25), ('MAR', 2.0)]"
            ]
          },
          "metadata": {},
          "execution_count": 94
        }
      ]
    },
    {
      "cell_type": "code",
      "source": [
        "from pyspark import SparkConf, SparkContext\n",
        "conf = SparkConf().setAppName(\"Min max\")\n",
        "sc= SparkContext.getOrCreate(conf=conf)"
      ],
      "metadata": {
        "id": "govRPcKZn7-E"
      },
      "execution_count": null,
      "outputs": []
    },
    {
      "cell_type": "code",
      "source": [
        "rdd=sc.textFile(\"/content/average_quiz_sample.csv\")\n",
        "final_rdd=rdd.map(lambda x: (x.split(',')[1],float(x.split(',')[2]))).reduceByKey(lambda x,y: x if x<y else y)"
      ],
      "metadata": {
        "id": "UlbmAsRUPWXY"
      },
      "execution_count": null,
      "outputs": []
    },
    {
      "cell_type": "code",
      "source": [
        "final_rdd.collect()"
      ],
      "metadata": {
        "colab": {
          "base_uri": "https://localhost:8080/"
        },
        "id": "PmgPXZjxPiuF",
        "outputId": "cbb3efdf-02f4-4077-f516-c586abb5a8e8"
      },
      "execution_count": null,
      "outputs": [
        {
          "output_type": "execute_result",
          "data": {
            "text/plain": [
              "[('NY', 1.0), ('PA', 1.0), ('NJ', 1.0), ('CT', 4.0), ('VT', 1.0)]"
            ]
          },
          "metadata": {},
          "execution_count": 6
        }
      ]
    },
    {
      "cell_type": "code",
      "source": [
        "rdd=sc.textFile(\"/content/StudentData.csv\")\n",
        "header=rdd.first()\n",
        "rdd=rdd.filter(lambda x: x!=header)\n",
        "rdd.count()\n",
        "rdd2=rdd.map(lambda x: x.split(','))"
      ],
      "metadata": {
        "id": "QIK9ucwOQLKF"
      },
      "execution_count": null,
      "outputs": []
    },
    {
      "cell_type": "code",
      "source": [
        "rdd2.map(lambda x: (x[1],int(x[5]))).reduceByKey(lambda x,y: x+y).collect()"
      ],
      "metadata": {
        "colab": {
          "base_uri": "https://localhost:8080/"
        },
        "id": "fNt33zSDR5DT",
        "outputId": "b38ce3c3-e45d-48c1-e7c6-28f66154094b"
      },
      "execution_count": null,
      "outputs": [
        {
          "output_type": "execute_result",
          "data": {
            "text/plain": [
              "[('Female', 29636), ('Male', 30461)]"
            ]
          },
          "metadata": {},
          "execution_count": 18
        }
      ]
    },
    {
      "cell_type": "code",
      "source": [
        "rdd2.filter(lambda x: int(x[5])>50).count()"
      ],
      "metadata": {
        "colab": {
          "base_uri": "https://localhost:8080/"
        },
        "id": "EE7Gu9FnT-S5",
        "outputId": "3c0768c5-6f87-4458-d528-c6679de218a5"
      },
      "execution_count": null,
      "outputs": [
        {
          "output_type": "execute_result",
          "data": {
            "text/plain": [
              "630"
            ]
          },
          "metadata": {},
          "execution_count": 20
        }
      ]
    },
    {
      "cell_type": "code",
      "source": [
        "rdd2.map(lambda x: (x[3],1)).reduceByKey(lambda x,y: x+y).collect()"
      ],
      "metadata": {
        "colab": {
          "base_uri": "https://localhost:8080/"
        },
        "id": "G4c3OEJsVlyO",
        "outputId": "80468a76-15cf-448a-b96a-2d5cc9d17993"
      },
      "execution_count": null,
      "outputs": [
        {
          "output_type": "execute_result",
          "data": {
            "text/plain": [
              "[('PF', 166),\n",
              " ('DSA', 176),\n",
              " ('DB', 157),\n",
              " ('Cloud', 192),\n",
              " ('MVC', 157),\n",
              " ('OOP', 152)]"
            ]
          },
          "metadata": {},
          "execution_count": 22
        }
      ]
    },
    {
      "cell_type": "code",
      "source": [
        "rdd2.map(lambda x: (x[3],x[5])).reduceByKey(lambda x,y: int(x)+int(y)).collect()"
      ],
      "metadata": {
        "colab": {
          "base_uri": "https://localhost:8080/"
        },
        "id": "3UQONoyjWjCV",
        "outputId": "9465b13d-e308-4ed7-dd6a-d459fcb6612d"
      },
      "execution_count": null,
      "outputs": [
        {
          "output_type": "execute_result",
          "data": {
            "text/plain": [
              "[('PF', 9933),\n",
              " ('DSA', 10950),\n",
              " ('DB', 9270),\n",
              " ('Cloud', 11443),\n",
              " ('MVC', 9585),\n",
              " ('OOP', 8916)]"
            ]
          },
          "metadata": {},
          "execution_count": 24
        }
      ]
    },
    {
      "cell_type": "code",
      "source": [
        "rdd2.map(lambda x: (x[3],(int(x[5]),1))).reduceByKey(lambda x,y: (x[0]+y[0],x[1]+y[1])).map(lambda x: (x[0], x[1][0] / x[1][1])).collect()"
      ],
      "metadata": {
        "colab": {
          "base_uri": "https://localhost:8080/"
        },
        "id": "w--ZjAfCxqHs",
        "outputId": "8c8614fb-de35-4019-f4a4-4b33704aa0db"
      },
      "execution_count": null,
      "outputs": [
        {
          "output_type": "execute_result",
          "data": {
            "text/plain": [
              "[('PF', 59.83734939759036),\n",
              " ('DSA', 62.21590909090909),\n",
              " ('DB', 59.044585987261144),\n",
              " ('Cloud', 59.598958333333336),\n",
              " ('MVC', 61.05095541401274),\n",
              " ('OOP', 58.6578947368421)]"
            ]
          },
          "metadata": {},
          "execution_count": 31
        }
      ]
    },
    {
      "cell_type": "code",
      "source": [],
      "metadata": {
        "id": "6Rn5TScy4O84"
      },
      "execution_count": null,
      "outputs": []
    },
    {
      "cell_type": "code",
      "source": [
        "rdd2.map(lambda x: (x[3],int(x[5]))).reduceByKey(lambda x,y: x if x<y else y).collect()"
      ],
      "metadata": {
        "colab": {
          "base_uri": "https://localhost:8080/"
        },
        "id": "V7RG1vTAzPmj",
        "outputId": "6a3868f6-ae5c-4312-fff6-69a6ae64b8fb"
      },
      "execution_count": null,
      "outputs": [
        {
          "output_type": "execute_result",
          "data": {
            "text/plain": [
              "[('PF', 20), ('DSA', 20), ('DB', 20), ('Cloud', 20), ('MVC', 22), ('OOP', 20)]"
            ]
          },
          "metadata": {},
          "execution_count": 34
        }
      ]
    },
    {
      "cell_type": "code",
      "source": [
        "rdd2.map(lambda x: (x[3],int(x[5]))).reduceByKey(lambda x,y: x if x>y else y).collect()"
      ],
      "metadata": {
        "colab": {
          "base_uri": "https://localhost:8080/"
        },
        "id": "McXb3pIk4BSV",
        "outputId": "dfb56545-03ff-4276-bbee-a1255100e852"
      },
      "execution_count": null,
      "outputs": [
        {
          "output_type": "execute_result",
          "data": {
            "text/plain": [
              "[('PF', 99), ('DSA', 99), ('DB', 98), ('Cloud', 99), ('MVC', 99), ('OOP', 99)]"
            ]
          },
          "metadata": {},
          "execution_count": 35
        }
      ]
    },
    {
      "cell_type": "code",
      "source": [
        "rdd2.map(lambda x: (x[1],(int(x[0]),1))).reduceByKey(lambda x,y: (x[0]+y[0],x[1]+y[1])).mapValues(lambda x: x[0]/x[1]).collect()"
      ],
      "metadata": {
        "colab": {
          "base_uri": "https://localhost:8080/"
        },
        "id": "rFyB8AQM4dSn",
        "outputId": "9bf80c7c-97b8-48d8-851c-80d5b4b1a7a6"
      },
      "execution_count": null,
      "outputs": [
        {
          "output_type": "execute_result",
          "data": {
            "text/plain": [
              "[('Female', 28.489021956087825), ('Male', 28.52304609218437)]"
            ]
          },
          "metadata": {},
          "execution_count": 40
        }
      ]
    },
    {
      "cell_type": "code",
      "source": [
        "from pyspark.sql import SparkSession\n",
        "spark=SparkSession.builder.appName(\"Spark DF\").getOrCreate()"
      ],
      "metadata": {
        "id": "mmrfBwe-5Fng"
      },
      "execution_count": null,
      "outputs": []
    },
    {
      "cell_type": "code",
      "source": [
        "df=spark.read.options(inferSchema=True, header=True, delimeter=',').csv(\"/content/StudentData.csv\")"
      ],
      "metadata": {
        "id": "DUb8cBf5sUug"
      },
      "execution_count": null,
      "outputs": []
    },
    {
      "cell_type": "code",
      "source": [
        "df.show()\n",
        "df.printSchema()"
      ],
      "metadata": {
        "colab": {
          "base_uri": "https://localhost:8080/"
        },
        "id": "oCrbkpqQtIWA",
        "outputId": "c8c3ff66-9979-428b-c531-303e9f867a2d"
      },
      "execution_count": null,
      "outputs": [
        {
          "output_type": "stream",
          "name": "stdout",
          "text": [
            "+---+------+----------------+------+------+-----+--------------------+\n",
            "|age|gender|            name|course|  roll|marks|               email|\n",
            "+---+------+----------------+------+------+-----+--------------------+\n",
            "| 28|Female| Hubert Oliveras|    DB|  2984|   59|Annika Hoffman_Na...|\n",
            "| 29|Female|Toshiko Hillyard| Cloud| 12899|   62|Margene Moores_Ma...|\n",
            "| 28|  Male|  Celeste Lollis|    PF| 21267|   45|Jeannetta Golden_...|\n",
            "| 29|Female|    Elenore Choy|    DB| 32877|   29|Billi Clore_Mitzi...|\n",
            "| 28|  Male|  Sheryll Towler|   DSA| 41487|   41|Claude Panos_Judi...|\n",
            "| 28|  Male|  Margene Moores|   MVC| 52771|   32|Toshiko Hillyard_...|\n",
            "| 28|  Male|     Neda Briski|   OOP| 61973|   69|Alberta Freund_El...|\n",
            "| 28|Female|    Claude Panos| Cloud| 72409|   85|Sheryll Towler_Al...|\n",
            "| 28|  Male|  Celeste Lollis|   MVC| 81492|   64|Nicole Harwood_Cl...|\n",
            "| 29|  Male|  Cordie Harnois|   OOP| 92882|   51|Judie Chipps_Clem...|\n",
            "| 29|Female|       Kena Wild|   DSA|102285|   35|Dustin Feagins_Ma...|\n",
            "| 29|  Male| Ernest Rossbach|    DB|111449|   53|Maybell Duguay_Ab...|\n",
            "| 28|Female|  Latia Vanhoose|    DB|122502|   27|Latia Vanhoose_Mi...|\n",
            "| 29|Female|  Latia Vanhoose|   MVC|132110|   55|Eda Neathery_Nico...|\n",
            "| 29|  Male|     Neda Briski|    PF|141770|   42|Margene Moores_Mi...|\n",
            "| 29|Female|  Latia Vanhoose|    DB|152159|   27|Claude Panos_Sant...|\n",
            "| 29|  Male|  Loris Crossett|   MVC|161771|   36|Mitzi Seldon_Jenn...|\n",
            "| 29|  Male|  Annika Hoffman|   OOP|171660|   22|Taryn Brownlee_Mi...|\n",
            "| 29|  Male|   Santa Kerfien|    PF|182129|   56|Judie Chipps_Tary...|\n",
            "| 28|Female|Mickey Cortright|    DB|192537|   62|Ernest Rossbach_M...|\n",
            "+---+------+----------------+------+------+-----+--------------------+\n",
            "only showing top 20 rows\n",
            "\n",
            "root\n",
            " |-- age: integer (nullable = true)\n",
            " |-- gender: string (nullable = true)\n",
            " |-- name: string (nullable = true)\n",
            " |-- course: string (nullable = true)\n",
            " |-- roll: integer (nullable = true)\n",
            " |-- marks: integer (nullable = true)\n",
            " |-- email: string (nullable = true)\n",
            "\n"
          ]
        }
      ]
    },
    {
      "cell_type": "code",
      "source": [
        "from pyspark.sql.types import StructType,StructField,IntegerType,StringType\n",
        "\n",
        "schema= StructType([StructField(\"age\", IntegerType(), True),\n",
        "                    StructField(\"gender\", StringType(), True),\n",
        "                    StructField(\"name\", StringType(), True),\n",
        "                    StructField(\"course\", StringType(), True),\n",
        "                    StructField(\"roll\", StringType(), True),\n",
        "                    StructField(\"marks\", IntegerType(), True),\n",
        "                    StructField(\"email\", StringType(), True)\n",
        "                  ])"
      ],
      "metadata": {
        "id": "n3DWn5LvtbHt"
      },
      "execution_count": null,
      "outputs": []
    },
    {
      "cell_type": "code",
      "source": [
        "df=spark.read.options(header=True).schema(schema).csv(\"/content/StudentData.csv\")"
      ],
      "metadata": {
        "id": "FldiNB0_v1KL"
      },
      "execution_count": null,
      "outputs": []
    },
    {
      "cell_type": "code",
      "source": [
        "df.show()\n",
        "df.printSchema()"
      ],
      "metadata": {
        "colab": {
          "base_uri": "https://localhost:8080/"
        },
        "id": "AEpaKpFRxADe",
        "outputId": "a2fdf1b2-3929-4bec-ee40-f964e9c33d66"
      },
      "execution_count": null,
      "outputs": [
        {
          "output_type": "stream",
          "name": "stdout",
          "text": [
            "+---+------+----------------+------+------+-----+--------------------+\n",
            "|age|gender|            name|course|  roll|marks|               email|\n",
            "+---+------+----------------+------+------+-----+--------------------+\n",
            "| 28|Female| Hubert Oliveras|    DB| 02984|   59|Annika Hoffman_Na...|\n",
            "| 29|Female|Toshiko Hillyard| Cloud| 12899|   62|Margene Moores_Ma...|\n",
            "| 28|  Male|  Celeste Lollis|    PF| 21267|   45|Jeannetta Golden_...|\n",
            "| 29|Female|    Elenore Choy|    DB| 32877|   29|Billi Clore_Mitzi...|\n",
            "| 28|  Male|  Sheryll Towler|   DSA| 41487|   41|Claude Panos_Judi...|\n",
            "| 28|  Male|  Margene Moores|   MVC| 52771|   32|Toshiko Hillyard_...|\n",
            "| 28|  Male|     Neda Briski|   OOP| 61973|   69|Alberta Freund_El...|\n",
            "| 28|Female|    Claude Panos| Cloud| 72409|   85|Sheryll Towler_Al...|\n",
            "| 28|  Male|  Celeste Lollis|   MVC| 81492|   64|Nicole Harwood_Cl...|\n",
            "| 29|  Male|  Cordie Harnois|   OOP| 92882|   51|Judie Chipps_Clem...|\n",
            "| 29|Female|       Kena Wild|   DSA|102285|   35|Dustin Feagins_Ma...|\n",
            "| 29|  Male| Ernest Rossbach|    DB|111449|   53|Maybell Duguay_Ab...|\n",
            "| 28|Female|  Latia Vanhoose|    DB|122502|   27|Latia Vanhoose_Mi...|\n",
            "| 29|Female|  Latia Vanhoose|   MVC|132110|   55|Eda Neathery_Nico...|\n",
            "| 29|  Male|     Neda Briski|    PF|141770|   42|Margene Moores_Mi...|\n",
            "| 29|Female|  Latia Vanhoose|    DB|152159|   27|Claude Panos_Sant...|\n",
            "| 29|  Male|  Loris Crossett|   MVC|161771|   36|Mitzi Seldon_Jenn...|\n",
            "| 29|  Male|  Annika Hoffman|   OOP|171660|   22|Taryn Brownlee_Mi...|\n",
            "| 29|  Male|   Santa Kerfien|    PF|182129|   56|Judie Chipps_Tary...|\n",
            "| 28|Female|Mickey Cortright|    DB|192537|   62|Ernest Rossbach_M...|\n",
            "+---+------+----------------+------+------+-----+--------------------+\n",
            "only showing top 20 rows\n",
            "\n",
            "root\n",
            " |-- age: integer (nullable = true)\n",
            " |-- gender: string (nullable = true)\n",
            " |-- name: string (nullable = true)\n",
            " |-- course: string (nullable = true)\n",
            " |-- roll: string (nullable = true)\n",
            " |-- marks: integer (nullable = true)\n",
            " |-- email: string (nullable = true)\n",
            "\n"
          ]
        }
      ]
    },
    {
      "cell_type": "code",
      "source": [
        "from pyspark import SparkConf, SparkContext\n",
        "conf=SparkConf().setAppName(\"RDD\")\n",
        "sc=SparkContext.getOrCreate(conf=conf)\n",
        "rdd=sc.textFile(\"/content/StudentData.csv\")\n",
        "headers=rdd.first()\n",
        "rdd=rdd.filter(lambda x: x!=headers).map(lambda x: x.split(','))\n",
        "rdd=rdd.map(lambda x: [int(x[0]),x[1],x[2],x[3],x[4],int(x[5]),x[6]])\n"
      ],
      "metadata": {
        "id": "S8rnZ1jsxDRe"
      },
      "execution_count": null,
      "outputs": []
    },
    {
      "cell_type": "code",
      "source": [
        "from pyspark.sql.types import StructType,StructField,IntegerType,StringType\n",
        "\n",
        "schema= StructType([StructField(\"age\", IntegerType(), True),\n",
        "                    StructField(\"gender\", StringType(), True),\n",
        "                    StructField(\"name\", StringType(), True),\n",
        "                    StructField(\"course\", StringType(), True),\n",
        "                    StructField(\"roll\", StringType(), True),\n",
        "                    StructField(\"marks\", IntegerType(), True),\n",
        "                    StructField(\"email\", StringType(), True)\n",
        "                  ])"
      ],
      "metadata": {
        "id": "hQQsYaqnzkLm"
      },
      "execution_count": null,
      "outputs": []
    },
    {
      "cell_type": "code",
      "source": [
        "dfRdd=spark.createDataFrame(rdd, schema=schema)\n",
        "\n",
        "dfRdd.printSchema()"
      ],
      "metadata": {
        "colab": {
          "base_uri": "https://localhost:8080/"
        },
        "id": "ZiJDalMrzCL6",
        "outputId": "53d68796-cefe-468d-ee90-d5a15eef24ae"
      },
      "execution_count": null,
      "outputs": [
        {
          "output_type": "stream",
          "name": "stdout",
          "text": [
            "root\n",
            " |-- age: integer (nullable = true)\n",
            " |-- gender: string (nullable = true)\n",
            " |-- name: string (nullable = true)\n",
            " |-- course: string (nullable = true)\n",
            " |-- roll: string (nullable = true)\n",
            " |-- marks: integer (nullable = true)\n",
            " |-- email: string (nullable = true)\n",
            "\n"
          ]
        }
      ]
    },
    {
      "cell_type": "code",
      "source": [
        "from pyspark.sql import SparkSession\n",
        "spark=SparkSession.builder.appName(\"Spark DF\").getOrCreate()\n",
        "df=spark.read.options(inferSchema=True, header=True).csv(\"/content/StudentData.csv\")\n",
        "df.show()"
      ],
      "metadata": {
        "colab": {
          "base_uri": "https://localhost:8080/"
        },
        "id": "NHxLq-_bzLcG",
        "outputId": "3564a7d9-f661-4dd5-b604-2b8287db828a"
      },
      "execution_count": null,
      "outputs": [
        {
          "output_type": "stream",
          "name": "stdout",
          "text": [
            "+---+------+----------------+------+------+-----+--------------------+\n",
            "|age|gender|            name|course|  roll|marks|               email|\n",
            "+---+------+----------------+------+------+-----+--------------------+\n",
            "| 28|Female| Hubert Oliveras|    DB|  2984|   59|Annika Hoffman_Na...|\n",
            "| 29|Female|Toshiko Hillyard| Cloud| 12899|   62|Margene Moores_Ma...|\n",
            "| 28|  Male|  Celeste Lollis|    PF| 21267|   45|Jeannetta Golden_...|\n",
            "| 29|Female|    Elenore Choy|    DB| 32877|   29|Billi Clore_Mitzi...|\n",
            "| 28|  Male|  Sheryll Towler|   DSA| 41487|   41|Claude Panos_Judi...|\n",
            "| 28|  Male|  Margene Moores|   MVC| 52771|   32|Toshiko Hillyard_...|\n",
            "| 28|  Male|     Neda Briski|   OOP| 61973|   69|Alberta Freund_El...|\n",
            "| 28|Female|    Claude Panos| Cloud| 72409|   85|Sheryll Towler_Al...|\n",
            "| 28|  Male|  Celeste Lollis|   MVC| 81492|   64|Nicole Harwood_Cl...|\n",
            "| 29|  Male|  Cordie Harnois|   OOP| 92882|   51|Judie Chipps_Clem...|\n",
            "| 29|Female|       Kena Wild|   DSA|102285|   35|Dustin Feagins_Ma...|\n",
            "| 29|  Male| Ernest Rossbach|    DB|111449|   53|Maybell Duguay_Ab...|\n",
            "| 28|Female|  Latia Vanhoose|    DB|122502|   27|Latia Vanhoose_Mi...|\n",
            "| 29|Female|  Latia Vanhoose|   MVC|132110|   55|Eda Neathery_Nico...|\n",
            "| 29|  Male|     Neda Briski|    PF|141770|   42|Margene Moores_Mi...|\n",
            "| 29|Female|  Latia Vanhoose|    DB|152159|   27|Claude Panos_Sant...|\n",
            "| 29|  Male|  Loris Crossett|   MVC|161771|   36|Mitzi Seldon_Jenn...|\n",
            "| 29|  Male|  Annika Hoffman|   OOP|171660|   22|Taryn Brownlee_Mi...|\n",
            "| 29|  Male|   Santa Kerfien|    PF|182129|   56|Judie Chipps_Tary...|\n",
            "| 28|Female|Mickey Cortright|    DB|192537|   62|Ernest Rossbach_M...|\n",
            "+---+------+----------------+------+------+-----+--------------------+\n",
            "only showing top 20 rows\n",
            "\n"
          ]
        }
      ]
    },
    {
      "cell_type": "code",
      "source": [
        "df.select(\"gender\",\"name\").show()"
      ],
      "metadata": {
        "colab": {
          "base_uri": "https://localhost:8080/"
        },
        "id": "h8ApTegl17VJ",
        "outputId": "656aea01-b4e3-4349-94fe-dc00e2ade5c7"
      },
      "execution_count": null,
      "outputs": [
        {
          "output_type": "stream",
          "name": "stdout",
          "text": [
            "+------+----------------+\n",
            "|gender|            name|\n",
            "+------+----------------+\n",
            "|Female| Hubert Oliveras|\n",
            "|Female|Toshiko Hillyard|\n",
            "|  Male|  Celeste Lollis|\n",
            "|Female|    Elenore Choy|\n",
            "|  Male|  Sheryll Towler|\n",
            "|  Male|  Margene Moores|\n",
            "|  Male|     Neda Briski|\n",
            "|Female|    Claude Panos|\n",
            "|  Male|  Celeste Lollis|\n",
            "|  Male|  Cordie Harnois|\n",
            "|Female|       Kena Wild|\n",
            "|  Male| Ernest Rossbach|\n",
            "|Female|  Latia Vanhoose|\n",
            "|Female|  Latia Vanhoose|\n",
            "|  Male|     Neda Briski|\n",
            "|Female|  Latia Vanhoose|\n",
            "|  Male|  Loris Crossett|\n",
            "|  Male|  Annika Hoffman|\n",
            "|  Male|   Santa Kerfien|\n",
            "|Female|Mickey Cortright|\n",
            "+------+----------------+\n",
            "only showing top 20 rows\n",
            "\n"
          ]
        }
      ]
    },
    {
      "cell_type": "code",
      "source": [
        "df.select(df.name, df.email).show()"
      ],
      "metadata": {
        "colab": {
          "base_uri": "https://localhost:8080/"
        },
        "id": "WhyuM8Zc2H29",
        "outputId": "74f0fa62-65b2-4490-8ff6-eb7a5054c58a"
      },
      "execution_count": null,
      "outputs": [
        {
          "output_type": "stream",
          "name": "stdout",
          "text": [
            "+----------------+--------------------+\n",
            "|            name|               email|\n",
            "+----------------+--------------------+\n",
            "| Hubert Oliveras|Annika Hoffman_Na...|\n",
            "|Toshiko Hillyard|Margene Moores_Ma...|\n",
            "|  Celeste Lollis|Jeannetta Golden_...|\n",
            "|    Elenore Choy|Billi Clore_Mitzi...|\n",
            "|  Sheryll Towler|Claude Panos_Judi...|\n",
            "|  Margene Moores|Toshiko Hillyard_...|\n",
            "|     Neda Briski|Alberta Freund_El...|\n",
            "|    Claude Panos|Sheryll Towler_Al...|\n",
            "|  Celeste Lollis|Nicole Harwood_Cl...|\n",
            "|  Cordie Harnois|Judie Chipps_Clem...|\n",
            "|       Kena Wild|Dustin Feagins_Ma...|\n",
            "| Ernest Rossbach|Maybell Duguay_Ab...|\n",
            "|  Latia Vanhoose|Latia Vanhoose_Mi...|\n",
            "|  Latia Vanhoose|Eda Neathery_Nico...|\n",
            "|     Neda Briski|Margene Moores_Mi...|\n",
            "|  Latia Vanhoose|Claude Panos_Sant...|\n",
            "|  Loris Crossett|Mitzi Seldon_Jenn...|\n",
            "|  Annika Hoffman|Taryn Brownlee_Mi...|\n",
            "|   Santa Kerfien|Judie Chipps_Tary...|\n",
            "|Mickey Cortright|Ernest Rossbach_M...|\n",
            "+----------------+--------------------+\n",
            "only showing top 20 rows\n",
            "\n"
          ]
        }
      ]
    },
    {
      "cell_type": "code",
      "source": [
        "from pyspark.sql.functions import col ,lit\n",
        "df.select(col(\"roll\"), col(\"name\")).show()"
      ],
      "metadata": {
        "colab": {
          "base_uri": "https://localhost:8080/"
        },
        "id": "vAipV_HC2ZTG",
        "outputId": "76d07879-53b3-4c5e-f904-8ffcbf0eaaa2"
      },
      "execution_count": null,
      "outputs": [
        {
          "output_type": "stream",
          "name": "stdout",
          "text": [
            "+------+----------------+\n",
            "|  roll|            name|\n",
            "+------+----------------+\n",
            "|  2984| Hubert Oliveras|\n",
            "| 12899|Toshiko Hillyard|\n",
            "| 21267|  Celeste Lollis|\n",
            "| 32877|    Elenore Choy|\n",
            "| 41487|  Sheryll Towler|\n",
            "| 52771|  Margene Moores|\n",
            "| 61973|     Neda Briski|\n",
            "| 72409|    Claude Panos|\n",
            "| 81492|  Celeste Lollis|\n",
            "| 92882|  Cordie Harnois|\n",
            "|102285|       Kena Wild|\n",
            "|111449| Ernest Rossbach|\n",
            "|122502|  Latia Vanhoose|\n",
            "|132110|  Latia Vanhoose|\n",
            "|141770|     Neda Briski|\n",
            "|152159|  Latia Vanhoose|\n",
            "|161771|  Loris Crossett|\n",
            "|171660|  Annika Hoffman|\n",
            "|182129|   Santa Kerfien|\n",
            "|192537|Mickey Cortright|\n",
            "+------+----------------+\n",
            "only showing top 20 rows\n",
            "\n"
          ]
        }
      ]
    },
    {
      "cell_type": "code",
      "source": [
        "df.select('*').show()"
      ],
      "metadata": {
        "colab": {
          "base_uri": "https://localhost:8080/"
        },
        "id": "4op44a8e2sjG",
        "outputId": "31f8a4e0-cc9b-41c7-ee2e-c8364df4f98c"
      },
      "execution_count": null,
      "outputs": [
        {
          "output_type": "stream",
          "name": "stdout",
          "text": [
            "+---+------+----------------+------+------+-----+--------------------+\n",
            "|age|gender|            name|course|  roll|marks|               email|\n",
            "+---+------+----------------+------+------+-----+--------------------+\n",
            "| 28|Female| Hubert Oliveras|    DB|  2984|   59|Annika Hoffman_Na...|\n",
            "| 29|Female|Toshiko Hillyard| Cloud| 12899|   62|Margene Moores_Ma...|\n",
            "| 28|  Male|  Celeste Lollis|    PF| 21267|   45|Jeannetta Golden_...|\n",
            "| 29|Female|    Elenore Choy|    DB| 32877|   29|Billi Clore_Mitzi...|\n",
            "| 28|  Male|  Sheryll Towler|   DSA| 41487|   41|Claude Panos_Judi...|\n",
            "| 28|  Male|  Margene Moores|   MVC| 52771|   32|Toshiko Hillyard_...|\n",
            "| 28|  Male|     Neda Briski|   OOP| 61973|   69|Alberta Freund_El...|\n",
            "| 28|Female|    Claude Panos| Cloud| 72409|   85|Sheryll Towler_Al...|\n",
            "| 28|  Male|  Celeste Lollis|   MVC| 81492|   64|Nicole Harwood_Cl...|\n",
            "| 29|  Male|  Cordie Harnois|   OOP| 92882|   51|Judie Chipps_Clem...|\n",
            "| 29|Female|       Kena Wild|   DSA|102285|   35|Dustin Feagins_Ma...|\n",
            "| 29|  Male| Ernest Rossbach|    DB|111449|   53|Maybell Duguay_Ab...|\n",
            "| 28|Female|  Latia Vanhoose|    DB|122502|   27|Latia Vanhoose_Mi...|\n",
            "| 29|Female|  Latia Vanhoose|   MVC|132110|   55|Eda Neathery_Nico...|\n",
            "| 29|  Male|     Neda Briski|    PF|141770|   42|Margene Moores_Mi...|\n",
            "| 29|Female|  Latia Vanhoose|    DB|152159|   27|Claude Panos_Sant...|\n",
            "| 29|  Male|  Loris Crossett|   MVC|161771|   36|Mitzi Seldon_Jenn...|\n",
            "| 29|  Male|  Annika Hoffman|   OOP|171660|   22|Taryn Brownlee_Mi...|\n",
            "| 29|  Male|   Santa Kerfien|    PF|182129|   56|Judie Chipps_Tary...|\n",
            "| 28|Female|Mickey Cortright|    DB|192537|   62|Ernest Rossbach_M...|\n",
            "+---+------+----------------+------+------+-----+--------------------+\n",
            "only showing top 20 rows\n",
            "\n"
          ]
        }
      ]
    },
    {
      "cell_type": "code",
      "source": [
        "df.select(df.columns[2:6]).show()"
      ],
      "metadata": {
        "colab": {
          "base_uri": "https://localhost:8080/"
        },
        "id": "g2Io4Pn421vP",
        "outputId": "e0f35987-6f8d-4663-f94b-c2980ac4b6e2"
      },
      "execution_count": null,
      "outputs": [
        {
          "output_type": "stream",
          "name": "stdout",
          "text": [
            "+----------------+------+------+-----+\n",
            "|            name|course|  roll|marks|\n",
            "+----------------+------+------+-----+\n",
            "| Hubert Oliveras|    DB|  2984|   59|\n",
            "|Toshiko Hillyard| Cloud| 12899|   62|\n",
            "|  Celeste Lollis|    PF| 21267|   45|\n",
            "|    Elenore Choy|    DB| 32877|   29|\n",
            "|  Sheryll Towler|   DSA| 41487|   41|\n",
            "|  Margene Moores|   MVC| 52771|   32|\n",
            "|     Neda Briski|   OOP| 61973|   69|\n",
            "|    Claude Panos| Cloud| 72409|   85|\n",
            "|  Celeste Lollis|   MVC| 81492|   64|\n",
            "|  Cordie Harnois|   OOP| 92882|   51|\n",
            "|       Kena Wild|   DSA|102285|   35|\n",
            "| Ernest Rossbach|    DB|111449|   53|\n",
            "|  Latia Vanhoose|    DB|122502|   27|\n",
            "|  Latia Vanhoose|   MVC|132110|   55|\n",
            "|     Neda Briski|    PF|141770|   42|\n",
            "|  Latia Vanhoose|    DB|152159|   27|\n",
            "|  Loris Crossett|   MVC|161771|   36|\n",
            "|  Annika Hoffman|   OOP|171660|   22|\n",
            "|   Santa Kerfien|    PF|182129|   56|\n",
            "|Mickey Cortright|    DB|192537|   62|\n",
            "+----------------+------+------+-----+\n",
            "only showing top 20 rows\n",
            "\n"
          ]
        }
      ]
    },
    {
      "cell_type": "code",
      "source": [
        "df.select('marks',col('email'),df.roll,'course').show()"
      ],
      "metadata": {
        "colab": {
          "base_uri": "https://localhost:8080/"
        },
        "id": "kEeFSZPd29nJ",
        "outputId": "d5f9d9db-15b0-4fb1-c706-09234709e89e"
      },
      "execution_count": null,
      "outputs": [
        {
          "output_type": "stream",
          "name": "stdout",
          "text": [
            "+-----+--------------------+------+------+\n",
            "|marks|               email|  roll|course|\n",
            "+-----+--------------------+------+------+\n",
            "|   59|Annika Hoffman_Na...|  2984|    DB|\n",
            "|   62|Margene Moores_Ma...| 12899| Cloud|\n",
            "|   45|Jeannetta Golden_...| 21267|    PF|\n",
            "|   29|Billi Clore_Mitzi...| 32877|    DB|\n",
            "|   41|Claude Panos_Judi...| 41487|   DSA|\n",
            "|   32|Toshiko Hillyard_...| 52771|   MVC|\n",
            "|   69|Alberta Freund_El...| 61973|   OOP|\n",
            "|   85|Sheryll Towler_Al...| 72409| Cloud|\n",
            "|   64|Nicole Harwood_Cl...| 81492|   MVC|\n",
            "|   51|Judie Chipps_Clem...| 92882|   OOP|\n",
            "|   35|Dustin Feagins_Ma...|102285|   DSA|\n",
            "|   53|Maybell Duguay_Ab...|111449|    DB|\n",
            "|   27|Latia Vanhoose_Mi...|122502|    DB|\n",
            "|   55|Eda Neathery_Nico...|132110|   MVC|\n",
            "|   42|Margene Moores_Mi...|141770|    PF|\n",
            "|   27|Claude Panos_Sant...|152159|    DB|\n",
            "|   36|Mitzi Seldon_Jenn...|161771|   MVC|\n",
            "|   22|Taryn Brownlee_Mi...|171660|   OOP|\n",
            "|   56|Judie Chipps_Tary...|182129|    PF|\n",
            "|   62|Ernest Rossbach_M...|192537|    DB|\n",
            "+-----+--------------------+------+------+\n",
            "only showing top 20 rows\n",
            "\n"
          ]
        }
      ]
    },
    {
      "cell_type": "code",
      "source": [
        "from pyspark.sql import SparkSession\n",
        "spark=SparkSession.builder.appName(\"Spark with col demo\").getOrCreate()\n",
        "df=spark.read.options(header=True, inferSchema=True).csv(\"/content/StudentData.csv\")"
      ],
      "metadata": {
        "id": "foONuB1M3mT6"
      },
      "execution_count": null,
      "outputs": []
    },
    {
      "cell_type": "code",
      "source": [
        "from pyspark.sql.functions import col,lit\n",
        "df.withColumn(\"roll\",col(\"roll\").cast(\"String\")).printSchema()"
      ],
      "metadata": {
        "colab": {
          "base_uri": "https://localhost:8080/"
        },
        "id": "iTJNGnXI5whF",
        "outputId": "dde53d7b-4b02-46e2-a01e-9b479b9b25ff"
      },
      "execution_count": null,
      "outputs": [
        {
          "output_type": "stream",
          "name": "stdout",
          "text": [
            "root\n",
            " |-- age: integer (nullable = true)\n",
            " |-- gender: string (nullable = true)\n",
            " |-- name: string (nullable = true)\n",
            " |-- course: string (nullable = true)\n",
            " |-- roll: string (nullable = true)\n",
            " |-- marks: integer (nullable = true)\n",
            " |-- email: string (nullable = true)\n",
            "\n"
          ]
        }
      ]
    },
    {
      "cell_type": "code",
      "source": [
        "df.withColumn(\"marks\", col(\"marks\")+10).show()"
      ],
      "metadata": {
        "colab": {
          "base_uri": "https://localhost:8080/"
        },
        "id": "H-D9Q0Hj59HR",
        "outputId": "22e091f8-c4fb-41d4-cd8b-d1c794578fae"
      },
      "execution_count": null,
      "outputs": [
        {
          "output_type": "stream",
          "name": "stdout",
          "text": [
            "+---+------+----------------+------+------+-----+--------------------+\n",
            "|age|gender|            name|course|  roll|marks|               email|\n",
            "+---+------+----------------+------+------+-----+--------------------+\n",
            "| 28|Female| Hubert Oliveras|    DB|  2984|   69|Annika Hoffman_Na...|\n",
            "| 29|Female|Toshiko Hillyard| Cloud| 12899|   72|Margene Moores_Ma...|\n",
            "| 28|  Male|  Celeste Lollis|    PF| 21267|   55|Jeannetta Golden_...|\n",
            "| 29|Female|    Elenore Choy|    DB| 32877|   39|Billi Clore_Mitzi...|\n",
            "| 28|  Male|  Sheryll Towler|   DSA| 41487|   51|Claude Panos_Judi...|\n",
            "| 28|  Male|  Margene Moores|   MVC| 52771|   42|Toshiko Hillyard_...|\n",
            "| 28|  Male|     Neda Briski|   OOP| 61973|   79|Alberta Freund_El...|\n",
            "| 28|Female|    Claude Panos| Cloud| 72409|   95|Sheryll Towler_Al...|\n",
            "| 28|  Male|  Celeste Lollis|   MVC| 81492|   74|Nicole Harwood_Cl...|\n",
            "| 29|  Male|  Cordie Harnois|   OOP| 92882|   61|Judie Chipps_Clem...|\n",
            "| 29|Female|       Kena Wild|   DSA|102285|   45|Dustin Feagins_Ma...|\n",
            "| 29|  Male| Ernest Rossbach|    DB|111449|   63|Maybell Duguay_Ab...|\n",
            "| 28|Female|  Latia Vanhoose|    DB|122502|   37|Latia Vanhoose_Mi...|\n",
            "| 29|Female|  Latia Vanhoose|   MVC|132110|   65|Eda Neathery_Nico...|\n",
            "| 29|  Male|     Neda Briski|    PF|141770|   52|Margene Moores_Mi...|\n",
            "| 29|Female|  Latia Vanhoose|    DB|152159|   37|Claude Panos_Sant...|\n",
            "| 29|  Male|  Loris Crossett|   MVC|161771|   46|Mitzi Seldon_Jenn...|\n",
            "| 29|  Male|  Annika Hoffman|   OOP|171660|   32|Taryn Brownlee_Mi...|\n",
            "| 29|  Male|   Santa Kerfien|    PF|182129|   66|Judie Chipps_Tary...|\n",
            "| 28|Female|Mickey Cortright|    DB|192537|   72|Ernest Rossbach_M...|\n",
            "+---+------+----------------+------+------+-----+--------------------+\n",
            "only showing top 20 rows\n",
            "\n"
          ]
        }
      ]
    },
    {
      "cell_type": "code",
      "source": [
        "df.withColumn(\"aggregated marks\", col(\"marks\")-10).show()"
      ],
      "metadata": {
        "colab": {
          "base_uri": "https://localhost:8080/"
        },
        "id": "esVHvuRiHBuA",
        "outputId": "3f5d9299-33c7-4fe6-905c-0f98e562493c"
      },
      "execution_count": null,
      "outputs": [
        {
          "output_type": "stream",
          "name": "stdout",
          "text": [
            "+---+------+----------------+------+------+-----+--------------------+----------------+\n",
            "|age|gender|            name|course|  roll|marks|               email|aggregated marks|\n",
            "+---+------+----------------+------+------+-----+--------------------+----------------+\n",
            "| 28|Female| Hubert Oliveras|    DB|  2984|   59|Annika Hoffman_Na...|              49|\n",
            "| 29|Female|Toshiko Hillyard| Cloud| 12899|   62|Margene Moores_Ma...|              52|\n",
            "| 28|  Male|  Celeste Lollis|    PF| 21267|   45|Jeannetta Golden_...|              35|\n",
            "| 29|Female|    Elenore Choy|    DB| 32877|   29|Billi Clore_Mitzi...|              19|\n",
            "| 28|  Male|  Sheryll Towler|   DSA| 41487|   41|Claude Panos_Judi...|              31|\n",
            "| 28|  Male|  Margene Moores|   MVC| 52771|   32|Toshiko Hillyard_...|              22|\n",
            "| 28|  Male|     Neda Briski|   OOP| 61973|   69|Alberta Freund_El...|              59|\n",
            "| 28|Female|    Claude Panos| Cloud| 72409|   85|Sheryll Towler_Al...|              75|\n",
            "| 28|  Male|  Celeste Lollis|   MVC| 81492|   64|Nicole Harwood_Cl...|              54|\n",
            "| 29|  Male|  Cordie Harnois|   OOP| 92882|   51|Judie Chipps_Clem...|              41|\n",
            "| 29|Female|       Kena Wild|   DSA|102285|   35|Dustin Feagins_Ma...|              25|\n",
            "| 29|  Male| Ernest Rossbach|    DB|111449|   53|Maybell Duguay_Ab...|              43|\n",
            "| 28|Female|  Latia Vanhoose|    DB|122502|   27|Latia Vanhoose_Mi...|              17|\n",
            "| 29|Female|  Latia Vanhoose|   MVC|132110|   55|Eda Neathery_Nico...|              45|\n",
            "| 29|  Male|     Neda Briski|    PF|141770|   42|Margene Moores_Mi...|              32|\n",
            "| 29|Female|  Latia Vanhoose|    DB|152159|   27|Claude Panos_Sant...|              17|\n",
            "| 29|  Male|  Loris Crossett|   MVC|161771|   36|Mitzi Seldon_Jenn...|              26|\n",
            "| 29|  Male|  Annika Hoffman|   OOP|171660|   22|Taryn Brownlee_Mi...|              12|\n",
            "| 29|  Male|   Santa Kerfien|    PF|182129|   56|Judie Chipps_Tary...|              46|\n",
            "| 28|Female|Mickey Cortright|    DB|192537|   62|Ernest Rossbach_M...|              52|\n",
            "+---+------+----------------+------+------+-----+--------------------+----------------+\n",
            "only showing top 20 rows\n",
            "\n"
          ]
        }
      ]
    },
    {
      "cell_type": "code",
      "source": [
        "df.withColumn(\"Country\",lit(\"USA\")).show()"
      ],
      "metadata": {
        "colab": {
          "base_uri": "https://localhost:8080/"
        },
        "id": "3RpNKGp_HoiZ",
        "outputId": "f8ce2cde-d478-4983-9d8d-66d575ff2213"
      },
      "execution_count": null,
      "outputs": [
        {
          "output_type": "stream",
          "name": "stdout",
          "text": [
            "+---+------+----------------+------+------+-----+--------------------+-------+\n",
            "|age|gender|            name|course|  roll|marks|               email|Country|\n",
            "+---+------+----------------+------+------+-----+--------------------+-------+\n",
            "| 28|Female| Hubert Oliveras|    DB|  2984|   59|Annika Hoffman_Na...|    USA|\n",
            "| 29|Female|Toshiko Hillyard| Cloud| 12899|   62|Margene Moores_Ma...|    USA|\n",
            "| 28|  Male|  Celeste Lollis|    PF| 21267|   45|Jeannetta Golden_...|    USA|\n",
            "| 29|Female|    Elenore Choy|    DB| 32877|   29|Billi Clore_Mitzi...|    USA|\n",
            "| 28|  Male|  Sheryll Towler|   DSA| 41487|   41|Claude Panos_Judi...|    USA|\n",
            "| 28|  Male|  Margene Moores|   MVC| 52771|   32|Toshiko Hillyard_...|    USA|\n",
            "| 28|  Male|     Neda Briski|   OOP| 61973|   69|Alberta Freund_El...|    USA|\n",
            "| 28|Female|    Claude Panos| Cloud| 72409|   85|Sheryll Towler_Al...|    USA|\n",
            "| 28|  Male|  Celeste Lollis|   MVC| 81492|   64|Nicole Harwood_Cl...|    USA|\n",
            "| 29|  Male|  Cordie Harnois|   OOP| 92882|   51|Judie Chipps_Clem...|    USA|\n",
            "| 29|Female|       Kena Wild|   DSA|102285|   35|Dustin Feagins_Ma...|    USA|\n",
            "| 29|  Male| Ernest Rossbach|    DB|111449|   53|Maybell Duguay_Ab...|    USA|\n",
            "| 28|Female|  Latia Vanhoose|    DB|122502|   27|Latia Vanhoose_Mi...|    USA|\n",
            "| 29|Female|  Latia Vanhoose|   MVC|132110|   55|Eda Neathery_Nico...|    USA|\n",
            "| 29|  Male|     Neda Briski|    PF|141770|   42|Margene Moores_Mi...|    USA|\n",
            "| 29|Female|  Latia Vanhoose|    DB|152159|   27|Claude Panos_Sant...|    USA|\n",
            "| 29|  Male|  Loris Crossett|   MVC|161771|   36|Mitzi Seldon_Jenn...|    USA|\n",
            "| 29|  Male|  Annika Hoffman|   OOP|171660|   22|Taryn Brownlee_Mi...|    USA|\n",
            "| 29|  Male|   Santa Kerfien|    PF|182129|   56|Judie Chipps_Tary...|    USA|\n",
            "| 28|Female|Mickey Cortright|    DB|192537|   62|Ernest Rossbach_M...|    USA|\n",
            "+---+------+----------------+------+------+-----+--------------------+-------+\n",
            "only showing top 20 rows\n",
            "\n"
          ]
        }
      ]
    },
    {
      "cell_type": "code",
      "source": [
        "df.withColumn(\"marks\",col(\"marks\")-10).withColumn(\"updated-mark\",col(\"marks\")+10).show()"
      ],
      "metadata": {
        "colab": {
          "base_uri": "https://localhost:8080/"
        },
        "id": "kFDuj8cxITxg",
        "outputId": "236cfc97-798a-4550-d547-3d0f9c50d482"
      },
      "execution_count": null,
      "outputs": [
        {
          "output_type": "stream",
          "name": "stdout",
          "text": [
            "+---+------+----------------+------+------+-----+--------------------+------------+\n",
            "|age|gender|            name|course|  roll|marks|               email|updated-mark|\n",
            "+---+------+----------------+------+------+-----+--------------------+------------+\n",
            "| 28|Female| Hubert Oliveras|    DB|  2984|   49|Annika Hoffman_Na...|          59|\n",
            "| 29|Female|Toshiko Hillyard| Cloud| 12899|   52|Margene Moores_Ma...|          62|\n",
            "| 28|  Male|  Celeste Lollis|    PF| 21267|   35|Jeannetta Golden_...|          45|\n",
            "| 29|Female|    Elenore Choy|    DB| 32877|   19|Billi Clore_Mitzi...|          29|\n",
            "| 28|  Male|  Sheryll Towler|   DSA| 41487|   31|Claude Panos_Judi...|          41|\n",
            "| 28|  Male|  Margene Moores|   MVC| 52771|   22|Toshiko Hillyard_...|          32|\n",
            "| 28|  Male|     Neda Briski|   OOP| 61973|   59|Alberta Freund_El...|          69|\n",
            "| 28|Female|    Claude Panos| Cloud| 72409|   75|Sheryll Towler_Al...|          85|\n",
            "| 28|  Male|  Celeste Lollis|   MVC| 81492|   54|Nicole Harwood_Cl...|          64|\n",
            "| 29|  Male|  Cordie Harnois|   OOP| 92882|   41|Judie Chipps_Clem...|          51|\n",
            "| 29|Female|       Kena Wild|   DSA|102285|   25|Dustin Feagins_Ma...|          35|\n",
            "| 29|  Male| Ernest Rossbach|    DB|111449|   43|Maybell Duguay_Ab...|          53|\n",
            "| 28|Female|  Latia Vanhoose|    DB|122502|   17|Latia Vanhoose_Mi...|          27|\n",
            "| 29|Female|  Latia Vanhoose|   MVC|132110|   45|Eda Neathery_Nico...|          55|\n",
            "| 29|  Male|     Neda Briski|    PF|141770|   32|Margene Moores_Mi...|          42|\n",
            "| 29|Female|  Latia Vanhoose|    DB|152159|   17|Claude Panos_Sant...|          27|\n",
            "| 29|  Male|  Loris Crossett|   MVC|161771|   26|Mitzi Seldon_Jenn...|          36|\n",
            "| 29|  Male|  Annika Hoffman|   OOP|171660|   12|Taryn Brownlee_Mi...|          22|\n",
            "| 29|  Male|   Santa Kerfien|    PF|182129|   46|Judie Chipps_Tary...|          56|\n",
            "| 28|Female|Mickey Cortright|    DB|192537|   52|Ernest Rossbach_M...|          62|\n",
            "+---+------+----------------+------+------+-----+--------------------+------------+\n",
            "only showing top 20 rows\n",
            "\n"
          ]
        }
      ]
    },
    {
      "cell_type": "code",
      "source": [
        "df.withColumnRenamed(\"gender\",\"sex\").show()"
      ],
      "metadata": {
        "colab": {
          "base_uri": "https://localhost:8080/"
        },
        "id": "fzzEjCHFJElp",
        "outputId": "7f121070-a482-43b7-b121-ae90ff243ec0"
      },
      "execution_count": null,
      "outputs": [
        {
          "output_type": "stream",
          "name": "stdout",
          "text": [
            "+---+------+----------------+------+------+-----+--------------------+\n",
            "|age|   sex|            name|course|  roll|marks|               email|\n",
            "+---+------+----------------+------+------+-----+--------------------+\n",
            "| 28|Female| Hubert Oliveras|    DB|  2984|   59|Annika Hoffman_Na...|\n",
            "| 29|Female|Toshiko Hillyard| Cloud| 12899|   62|Margene Moores_Ma...|\n",
            "| 28|  Male|  Celeste Lollis|    PF| 21267|   45|Jeannetta Golden_...|\n",
            "| 29|Female|    Elenore Choy|    DB| 32877|   29|Billi Clore_Mitzi...|\n",
            "| 28|  Male|  Sheryll Towler|   DSA| 41487|   41|Claude Panos_Judi...|\n",
            "| 28|  Male|  Margene Moores|   MVC| 52771|   32|Toshiko Hillyard_...|\n",
            "| 28|  Male|     Neda Briski|   OOP| 61973|   69|Alberta Freund_El...|\n",
            "| 28|Female|    Claude Panos| Cloud| 72409|   85|Sheryll Towler_Al...|\n",
            "| 28|  Male|  Celeste Lollis|   MVC| 81492|   64|Nicole Harwood_Cl...|\n",
            "| 29|  Male|  Cordie Harnois|   OOP| 92882|   51|Judie Chipps_Clem...|\n",
            "| 29|Female|       Kena Wild|   DSA|102285|   35|Dustin Feagins_Ma...|\n",
            "| 29|  Male| Ernest Rossbach|    DB|111449|   53|Maybell Duguay_Ab...|\n",
            "| 28|Female|  Latia Vanhoose|    DB|122502|   27|Latia Vanhoose_Mi...|\n",
            "| 29|Female|  Latia Vanhoose|   MVC|132110|   55|Eda Neathery_Nico...|\n",
            "| 29|  Male|     Neda Briski|    PF|141770|   42|Margene Moores_Mi...|\n",
            "| 29|Female|  Latia Vanhoose|    DB|152159|   27|Claude Panos_Sant...|\n",
            "| 29|  Male|  Loris Crossett|   MVC|161771|   36|Mitzi Seldon_Jenn...|\n",
            "| 29|  Male|  Annika Hoffman|   OOP|171660|   22|Taryn Brownlee_Mi...|\n",
            "| 29|  Male|   Santa Kerfien|    PF|182129|   56|Judie Chipps_Tary...|\n",
            "| 28|Female|Mickey Cortright|    DB|192537|   62|Ernest Rossbach_M...|\n",
            "+---+------+----------------+------+------+-----+--------------------+\n",
            "only showing top 20 rows\n",
            "\n"
          ]
        }
      ]
    },
    {
      "cell_type": "code",
      "source": [],
      "metadata": {
        "id": "6pADuN_uZ2v4"
      },
      "execution_count": null,
      "outputs": []
    }
  ]
}