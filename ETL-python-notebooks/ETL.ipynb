{
  "nbformat": 4,
  "nbformat_minor": 0,
  "metadata": {
    "colab": {
      "provenance": []
    },
    "kernelspec": {
      "name": "python3",
      "display_name": "Python 3"
    },
    "language_info": {
      "name": "python"
    }
  },
  "cells": [
    {
      "cell_type": "code",
      "execution_count": null,
      "metadata": {
        "id": "HBTg0C9Oj-6J",
        "outputId": "8f7188f2-2f11-4130-ad2f-b09bd84d65b8",
        "colab": {
          "base_uri": "https://localhost:8080/"
        }
      },
      "outputs": [
        {
          "output_type": "stream",
          "name": "stdout",
          "text": [
            "--2025-07-14 05:54:30--  https://jdbc.postgresql.org/download/postgresql-42.7.3.jar\n",
            "Resolving jdbc.postgresql.org (jdbc.postgresql.org)... 72.32.157.228, 2001:4800:3e1:1::228\n",
            "Connecting to jdbc.postgresql.org (jdbc.postgresql.org)|72.32.157.228|:443... connected.\n",
            "HTTP request sent, awaiting response... 200 OK\n",
            "Length: 1089312 (1.0M) [application/java-archive]\n",
            "Saving to: ‘postgresql-42.7.3.jar.2’\n",
            "\n",
            "postgresql-42.7.3.j 100%[===================>]   1.04M  5.98MB/s    in 0.2s    \n",
            "\n",
            "2025-07-14 05:54:31 (5.98 MB/s) - ‘postgresql-42.7.3.jar.2’ saved [1089312/1089312]\n",
            "\n"
          ]
        }
      ],
      "source": [
        "!wget https://jdbc.postgresql.org/download/postgresql-42.7.3.jar\n",
        "from pyspark.sql import SparkSession\n",
        "from pyspark.sql.functions import col,lit,explode\n",
        "import pyspark.sql.functions as f\n",
        "spark=SparkSession.builder.appName(\"ETL job\").config(\"spark.jars\", \"postgresql-42.7.3.jar\").getOrCreate()"
      ]
    },
    {
      "cell_type": "code",
      "source": [
        "#Extract\n",
        "df=spark.read.text(\"/content/wordData.txt\")\n",
        "df.show()"
      ],
      "metadata": {
        "colab": {
          "base_uri": "https://localhost:8080/"
        },
        "id": "L_gNhA5NI7_B",
        "outputId": "42b62fa8-3247-4e3b-eda7-593037da6f56"
      },
      "execution_count": null,
      "outputs": [
        {
          "output_type": "stream",
          "name": "stdout",
          "text": [
            "+--------------------+\n",
            "|               value|\n",
            "+--------------------+\n",
            "|This is a Japanes...|\n",
            "|The team members ...|\n",
            "|As the years pass...|\n",
            "|If you don't like...|\n",
            "|He was disappoint...|\n",
            "|When he encounter...|\n",
            "|Situps are a terr...|\n",
            "|Toddlers feeding ...|\n",
            "|Edith could decid...|\n",
            "|Her daily goal wa...|\n",
            "|Tomorrow will bri...|\n",
            "|His son quipped t...|\n",
            "|He wondered why a...|\n",
            "|If my calculator ...|\n",
            "|The hummingbird's...|\n",
            "|He went on a whis...|\n",
            "|This is the last ...|\n",
            "|I come from a tri...|\n",
            "|The delicious aro...|\n",
            "|Weather is not tr...|\n",
            "+--------------------+\n",
            "only showing top 20 rows\n",
            "\n"
          ]
        }
      ]
    },
    {
      "cell_type": "code",
      "source": [
        "#Transformation\n",
        "df2=df.withColumn(\"splitedData\", f.split(\"value\",\" \"))\n",
        "df3=df2.withColumn(\"words\", explode(\"splitedData\"))\n",
        "wordDf=df3.select(\"words\")\n",
        "wordCount=wordDf.groupBy(\"words\").count()"
      ],
      "metadata": {
        "id": "hx1-H9CqNQYs"
      },
      "execution_count": null,
      "outputs": []
    },
    {
      "cell_type": "code",
      "source": [
        "#Load\n",
        "driver = \"org.postgresql.Driver\"\n",
        "url = \"jdbc:postgresql://database-1.cdmqwis866t7.ap-south-1.rds.amazonaws.com/\"\n",
        "table=\"spark_job_schema.word_counts\"\n",
        "user=\"postgres\"\n",
        "password=\"Nabeel_123\""
      ],
      "metadata": {
        "id": "boBYY3a6OyFR"
      },
      "execution_count": null,
      "outputs": []
    },
    {
      "cell_type": "code",
      "source": [
        "wordCount.write.format(\"jdbc\").option(\"driver\",driver).option(\"url\",url).option(\"dbtable\",table).option(\"mode\",\"append\").option(\"user\",user).option(\"password\",password).save()"
      ],
      "metadata": {
        "id": "pEEFlin1c9qM"
      },
      "execution_count": null,
      "outputs": []
    },
    {
      "cell_type": "code",
      "source": [],
      "metadata": {
        "id": "EWFsHRmFeZQM"
      },
      "execution_count": null,
      "outputs": []
    }
  ]
}