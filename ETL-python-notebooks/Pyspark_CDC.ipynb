{
  "nbformat": 4,
  "nbformat_minor": 0,
  "metadata": {
    "colab": {
      "provenance": []
    },
    "kernelspec": {
      "name": "python3",
      "display_name": "Python 3"
    },
    "language_info": {
      "name": "python"
    }
  },
  "cells": [
    {
      "cell_type": "code",
      "source": [
        "from pyspark.sql import SparkSession\n",
        "from pyspark.sql.functions import col, when\n",
        "spark = SparkSession.builder.appName(\"CDC pipeline\").getOrCreate()"
      ],
      "metadata": {
        "id": "6mvVnJLwe8-9"
      },
      "execution_count": null,
      "outputs": []
    },
    {
      "cell_type": "code",
      "source": [
        "fldf=spark.read.csv(\"/content/LOAD00000001.csv\")\n",
        "fldf=fldf.withColumnRenamed(\"_c0\",\"id\").withColumnRenamed(\"_c1\",\"FullName\").withColumnRenamed(\"_c2\",\"City\")\n",
        "fldf.write.mode(\"overwrite\").csv(\"/content/final_output/finalfile.csv\")"
      ],
      "metadata": {
        "id": "QgHjB7VI_889"
      },
      "execution_count": null,
      "outputs": []
    },
    {
      "cell_type": "code",
      "source": [
        "udf=spark.read.csv(\"/content/20250717-080727667.csv\")\n",
        "udf=udf.withColumnRenamed(\"_c0\",\"action\").withColumnRenamed(\"_c1\",\"id\").withColumnRenamed(\"_c2\",\"FullName\").withColumnRenamed(\"_c3\",\"City\")\n",
        "ffdf=spark.read.csv(\"/content/final_output/finalfile.csv\")\n",
        "ffdf=ffdf.withColumnRenamed(\"_c0\",\"id\").withColumnRenamed(\"_c1\",\"FullName\").withColumnRenamed(\"_c2\",\"City\")"
      ],
      "metadata": {
        "id": "CS_sLqBlAHn3"
      },
      "execution_count": null,
      "outputs": []
    },
    {
      "cell_type": "code",
      "source": [
        "for row in udf.collect():\n",
        "\n",
        "  if row.action==\"I\":\n",
        "    rowData=[list(row)[1:]]\n",
        "    columns=[\"id\",\"FullName\",\"City\"]\n",
        "    tempDf=spark.createDataFrame([(row.id,row.FullName,row.City)],columns)\n",
        "    ffdf=ffdf.union(tempDf)\n",
        "\n",
        "  elif row.action==\"U\":\n",
        "    ffdf=ffdf.withColumn(\"FullName\",when(col(\"id\")==row.id,row.FullName).otherwise(col(\"FullName\"))).withColumn(\"City\",when(col(\"id\")==row.id,row.City).otherwise(col(\"City\")))\n",
        "\n",
        "  elif row.action==\"D\":\n",
        "    ffdf=ffdf.filter(col(\"id\")!=row.id)\n",
        "\n",
        "# fldf.write.mode(\"overwrite\").csv(\"/content/final_output/finalfile.csv\")"
      ],
      "metadata": {
        "id": "L0K9rjEwBmIs"
      },
      "execution_count": null,
      "outputs": []
    },
    {
      "cell_type": "code",
      "source": [],
      "metadata": {
        "id": "OBZ1Pj4ID4QR"
      },
      "execution_count": null,
      "outputs": []
    }
  ]
}