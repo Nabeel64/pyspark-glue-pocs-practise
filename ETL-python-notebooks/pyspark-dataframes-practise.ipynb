{
  "nbformat": 4,
  "nbformat_minor": 0,
  "metadata": {
    "colab": {
      "provenance": []
    },
    "kernelspec": {
      "name": "python3",
      "display_name": "Python 3"
    },
    "language_info": {
      "name": "python"
    }
  },
  "cells": [
    {
      "cell_type": "code",
      "execution_count": null,
      "metadata": {
        "id": "jl10xdITaMCr"
      },
      "outputs": [],
      "source": [
        "from pyspark.sql import SparkSession\n",
        "from pyspark.sql.functions import col,lit\n",
        "spark=SparkSession.builder.appName(\"Data frames\").getOrCreate()"
      ]
    },
    {
      "cell_type": "code",
      "source": [
        "df=spark.read.options(header=True, inferSchema=True).csv(\"/content/StudentData.csv\")\n",
        "df=df.withColumnRenamed(\"gender\",\"sex\")"
      ],
      "metadata": {
        "id": "AaMtPT2Xas5i"
      },
      "execution_count": null,
      "outputs": []
    },
    {
      "cell_type": "code",
      "source": [
        "df.select(col(\"name\").alias(\"Full Name\")).show()"
      ],
      "metadata": {
        "colab": {
          "base_uri": "https://localhost:8080/"
        },
        "id": "j2AMqERwbT59",
        "outputId": "a8ccc87e-d92b-4864-b0c9-3c2ac765eb6c"
      },
      "execution_count": null,
      "outputs": [
        {
          "output_type": "stream",
          "name": "stdout",
          "text": [
            "+----------------+\n",
            "|       Full Name|\n",
            "+----------------+\n",
            "| Hubert Oliveras|\n",
            "|Toshiko Hillyard|\n",
            "|  Celeste Lollis|\n",
            "|    Elenore Choy|\n",
            "|  Sheryll Towler|\n",
            "|  Margene Moores|\n",
            "|     Neda Briski|\n",
            "|    Claude Panos|\n",
            "|  Celeste Lollis|\n",
            "|  Cordie Harnois|\n",
            "|       Kena Wild|\n",
            "| Ernest Rossbach|\n",
            "|  Latia Vanhoose|\n",
            "|  Latia Vanhoose|\n",
            "|     Neda Briski|\n",
            "|  Latia Vanhoose|\n",
            "|  Loris Crossett|\n",
            "|  Annika Hoffman|\n",
            "|   Santa Kerfien|\n",
            "|Mickey Cortright|\n",
            "+----------------+\n",
            "only showing top 20 rows\n",
            "\n"
          ]
        }
      ]
    },
    {
      "cell_type": "code",
      "source": [
        "df.show()"
      ],
      "metadata": {
        "colab": {
          "base_uri": "https://localhost:8080/"
        },
        "id": "oU7UsqWIbza8",
        "outputId": "133d9902-6652-4c24-fc8c-6439b9badb89"
      },
      "execution_count": null,
      "outputs": [
        {
          "output_type": "stream",
          "name": "stdout",
          "text": [
            "+---+------+----------------+------+------+-----+--------------------+\n",
            "|age|   sex|            name|course|  roll|marks|               email|\n",
            "+---+------+----------------+------+------+-----+--------------------+\n",
            "| 28|Female| Hubert Oliveras|    DB|  2984|   59|Annika Hoffman_Na...|\n",
            "| 29|Female|Toshiko Hillyard| Cloud| 12899|   62|Margene Moores_Ma...|\n",
            "| 28|  Male|  Celeste Lollis|    PF| 21267|   45|Jeannetta Golden_...|\n",
            "| 29|Female|    Elenore Choy|    DB| 32877|   29|Billi Clore_Mitzi...|\n",
            "| 28|  Male|  Sheryll Towler|   DSA| 41487|   41|Claude Panos_Judi...|\n",
            "| 28|  Male|  Margene Moores|   MVC| 52771|   32|Toshiko Hillyard_...|\n",
            "| 28|  Male|     Neda Briski|   OOP| 61973|   69|Alberta Freund_El...|\n",
            "| 28|Female|    Claude Panos| Cloud| 72409|   85|Sheryll Towler_Al...|\n",
            "| 28|  Male|  Celeste Lollis|   MVC| 81492|   64|Nicole Harwood_Cl...|\n",
            "| 29|  Male|  Cordie Harnois|   OOP| 92882|   51|Judie Chipps_Clem...|\n",
            "| 29|Female|       Kena Wild|   DSA|102285|   35|Dustin Feagins_Ma...|\n",
            "| 29|  Male| Ernest Rossbach|    DB|111449|   53|Maybell Duguay_Ab...|\n",
            "| 28|Female|  Latia Vanhoose|    DB|122502|   27|Latia Vanhoose_Mi...|\n",
            "| 29|Female|  Latia Vanhoose|   MVC|132110|   55|Eda Neathery_Nico...|\n",
            "| 29|  Male|     Neda Briski|    PF|141770|   42|Margene Moores_Mi...|\n",
            "| 29|Female|  Latia Vanhoose|    DB|152159|   27|Claude Panos_Sant...|\n",
            "| 29|  Male|  Loris Crossett|   MVC|161771|   36|Mitzi Seldon_Jenn...|\n",
            "| 29|  Male|  Annika Hoffman|   OOP|171660|   22|Taryn Brownlee_Mi...|\n",
            "| 29|  Male|   Santa Kerfien|    PF|182129|   56|Judie Chipps_Tary...|\n",
            "| 28|Female|Mickey Cortright|    DB|192537|   62|Ernest Rossbach_M...|\n",
            "+---+------+----------------+------+------+-----+--------------------+\n",
            "only showing top 20 rows\n",
            "\n"
          ]
        }
      ]
    },
    {
      "cell_type": "code",
      "source": [
        "df.filter(df.course==\"DB\").show()"
      ],
      "metadata": {
        "colab": {
          "base_uri": "https://localhost:8080/"
        },
        "id": "fbZlDpVJb7YT",
        "outputId": "a7f45bb3-7b25-4f71-a81d-9ca13c811146"
      },
      "execution_count": null,
      "outputs": [
        {
          "output_type": "stream",
          "name": "stdout",
          "text": [
            "+---+------+-----------------+------+-------+-----+--------------------+\n",
            "|age|   sex|             name|course|   roll|marks|               email|\n",
            "+---+------+-----------------+------+-------+-----+--------------------+\n",
            "| 28|Female|  Hubert Oliveras|    DB|   2984|   59|Annika Hoffman_Na...|\n",
            "| 29|Female|     Elenore Choy|    DB|  32877|   29|Billi Clore_Mitzi...|\n",
            "| 29|  Male|  Ernest Rossbach|    DB| 111449|   53|Maybell Duguay_Ab...|\n",
            "| 28|Female|   Latia Vanhoose|    DB| 122502|   27|Latia Vanhoose_Mi...|\n",
            "| 29|Female|   Latia Vanhoose|    DB| 152159|   27|Claude Panos_Sant...|\n",
            "| 28|Female| Mickey Cortright|    DB| 192537|   62|Ernest Rossbach_M...|\n",
            "| 28|Female|      Anna Santos|    DB| 311589|   79|Celeste Lollis_Mi...|\n",
            "| 28|  Male|    Kizzy Brenner|    DB| 381712|   36|Paris Hutton_Kena...|\n",
            "| 28|  Male| Toshiko Hillyard|    DB| 392218|   47|Leontine Phillips...|\n",
            "| 29|  Male|     Paris Hutton|    DB| 481229|   57|Clementina Menke_...|\n",
            "| 28|Female| Mickey Cortright|    DB| 551389|   43|Tijuana Kropf_Jen...|\n",
            "| 28|Female|Leontine Phillips|    DB| 602404|   48|Neda Briski_Cheri...|\n",
            "| 28|Female|  Hubert Oliveras|    DB| 771081|   79|Kizzy Brenner_Dus...|\n",
            "| 29|Female|     Elenore Choy|    DB| 811824|   55|Maybell Duguay_Me...|\n",
            "| 29|  Male| Clementina Menke|    DB| 882200|   76|Michelle Ruggiero...|\n",
            "| 29|Female|  Sebrina Maresca|    DB| 922210|   54|Toshiko Hillyard_...|\n",
            "| 29|  Male|     Naoma Fritts|    DB| 931295|   79|Hubert Oliveras_S...|\n",
            "| 28|  Male|   Annika Hoffman|    DB|1031544|   44|Dustin Feagins_So...|\n",
            "| 28|  Male|   Nicole Harwood|    DB|1211495|   28|Melani Engberg_Jc...|\n",
            "| 29|Female|     Claude Panos|    DB|1222887|   75|Hubert Oliveras_S...|\n",
            "+---+------+-----------------+------+-------+-----+--------------------+\n",
            "only showing top 20 rows\n",
            "\n"
          ]
        }
      ]
    },
    {
      "cell_type": "code",
      "source": [
        "df.filter(col('course')==\"DB\").show()"
      ],
      "metadata": {
        "colab": {
          "base_uri": "https://localhost:8080/"
        },
        "id": "mlwlbAjBcXRc",
        "outputId": "e7b35afc-6297-479a-d3a2-a71ec119e4a4"
      },
      "execution_count": null,
      "outputs": [
        {
          "output_type": "stream",
          "name": "stdout",
          "text": [
            "+---+------+-----------------+------+-------+-----+--------------------+\n",
            "|age|   sex|             name|course|   roll|marks|               email|\n",
            "+---+------+-----------------+------+-------+-----+--------------------+\n",
            "| 28|Female|  Hubert Oliveras|    DB|   2984|   59|Annika Hoffman_Na...|\n",
            "| 29|Female|     Elenore Choy|    DB|  32877|   29|Billi Clore_Mitzi...|\n",
            "| 29|  Male|  Ernest Rossbach|    DB| 111449|   53|Maybell Duguay_Ab...|\n",
            "| 28|Female|   Latia Vanhoose|    DB| 122502|   27|Latia Vanhoose_Mi...|\n",
            "| 29|Female|   Latia Vanhoose|    DB| 152159|   27|Claude Panos_Sant...|\n",
            "| 28|Female| Mickey Cortright|    DB| 192537|   62|Ernest Rossbach_M...|\n",
            "| 28|Female|      Anna Santos|    DB| 311589|   79|Celeste Lollis_Mi...|\n",
            "| 28|  Male|    Kizzy Brenner|    DB| 381712|   36|Paris Hutton_Kena...|\n",
            "| 28|  Male| Toshiko Hillyard|    DB| 392218|   47|Leontine Phillips...|\n",
            "| 29|  Male|     Paris Hutton|    DB| 481229|   57|Clementina Menke_...|\n",
            "| 28|Female| Mickey Cortright|    DB| 551389|   43|Tijuana Kropf_Jen...|\n",
            "| 28|Female|Leontine Phillips|    DB| 602404|   48|Neda Briski_Cheri...|\n",
            "| 28|Female|  Hubert Oliveras|    DB| 771081|   79|Kizzy Brenner_Dus...|\n",
            "| 29|Female|     Elenore Choy|    DB| 811824|   55|Maybell Duguay_Me...|\n",
            "| 29|  Male| Clementina Menke|    DB| 882200|   76|Michelle Ruggiero...|\n",
            "| 29|Female|  Sebrina Maresca|    DB| 922210|   54|Toshiko Hillyard_...|\n",
            "| 29|  Male|     Naoma Fritts|    DB| 931295|   79|Hubert Oliveras_S...|\n",
            "| 28|  Male|   Annika Hoffman|    DB|1031544|   44|Dustin Feagins_So...|\n",
            "| 28|  Male|   Nicole Harwood|    DB|1211495|   28|Melani Engberg_Jc...|\n",
            "| 29|Female|     Claude Panos|    DB|1222887|   75|Hubert Oliveras_S...|\n",
            "+---+------+-----------------+------+-------+-----+--------------------+\n",
            "only showing top 20 rows\n",
            "\n"
          ]
        }
      ]
    },
    {
      "cell_type": "code",
      "source": [
        "courses=[\"DB\",\"Cloud\",\"OOP\",\"DSA\"]\n",
        "df.filter(df.course.isin(courses)).show()"
      ],
      "metadata": {
        "colab": {
          "base_uri": "https://localhost:8080/"
        },
        "id": "HywtpIr4ci4c",
        "outputId": "3b485259-2834-4316-c378-1cbf753c621f"
      },
      "execution_count": null,
      "outputs": [
        {
          "output_type": "stream",
          "name": "stdout",
          "text": [
            "+---+------+----------------+------+------+-----+--------------------+\n",
            "|age|   sex|            name|course|  roll|marks|               email|\n",
            "+---+------+----------------+------+------+-----+--------------------+\n",
            "| 28|Female| Hubert Oliveras|    DB|  2984|   59|Annika Hoffman_Na...|\n",
            "| 29|Female|Toshiko Hillyard| Cloud| 12899|   62|Margene Moores_Ma...|\n",
            "| 29|Female|    Elenore Choy|    DB| 32877|   29|Billi Clore_Mitzi...|\n",
            "| 28|  Male|  Sheryll Towler|   DSA| 41487|   41|Claude Panos_Judi...|\n",
            "| 28|  Male|     Neda Briski|   OOP| 61973|   69|Alberta Freund_El...|\n",
            "| 28|Female|    Claude Panos| Cloud| 72409|   85|Sheryll Towler_Al...|\n",
            "| 29|  Male|  Cordie Harnois|   OOP| 92882|   51|Judie Chipps_Clem...|\n",
            "| 29|Female|       Kena Wild|   DSA|102285|   35|Dustin Feagins_Ma...|\n",
            "| 29|  Male| Ernest Rossbach|    DB|111449|   53|Maybell Duguay_Ab...|\n",
            "| 28|Female|  Latia Vanhoose|    DB|122502|   27|Latia Vanhoose_Mi...|\n",
            "| 29|Female|  Latia Vanhoose|    DB|152159|   27|Claude Panos_Sant...|\n",
            "| 29|  Male|  Annika Hoffman|   OOP|171660|   22|Taryn Brownlee_Mi...|\n",
            "| 28|Female|Mickey Cortright|    DB|192537|   62|Ernest Rossbach_M...|\n",
            "| 28|Female|       Kena Wild| Cloud|221750|   60|Mitzi Seldon_Jenn...|\n",
            "| 28|Female|    Jc Andrepont|   DSA|232060|   58|Billi Clore_Abram...|\n",
            "| 29|Female|     Anna Santos| Cloud|242254|   68|Jc Andrepont_Hube...|\n",
            "| 28|Female|  Alberta Freund|   OOP|251805|   83|Annika Hoffman_Sh...|\n",
            "| 28|Female|  Maybell Duguay| Cloud|261439|   20|Nicole Harwood_Ju...|\n",
            "| 29|Female|    Paris Hutton|   DSA|271472|   99|Sheryll Towler_Al...|\n",
            "| 29|Female|    Cheri Kenney| Cloud|281408|   43|Annika Hoffman_Me...|\n",
            "+---+------+----------------+------+------+-----+--------------------+\n",
            "only showing top 20 rows\n",
            "\n"
          ]
        }
      ]
    },
    {
      "cell_type": "code",
      "source": [
        "df.filter(df.course.startswith(\"D\")).show()"
      ],
      "metadata": {
        "colab": {
          "base_uri": "https://localhost:8080/"
        },
        "id": "rnjp6W0LcwDu",
        "outputId": "34699b77-a6d5-4ab8-e778-5b7a6dfcf943"
      },
      "execution_count": null,
      "outputs": [
        {
          "output_type": "stream",
          "name": "stdout",
          "text": [
            "+---+------+----------------+------+------+-----+--------------------+\n",
            "|age|   sex|            name|course|  roll|marks|               email|\n",
            "+---+------+----------------+------+------+-----+--------------------+\n",
            "| 28|Female| Hubert Oliveras|    DB|  2984|   59|Annika Hoffman_Na...|\n",
            "| 29|Female|    Elenore Choy|    DB| 32877|   29|Billi Clore_Mitzi...|\n",
            "| 28|  Male|  Sheryll Towler|   DSA| 41487|   41|Claude Panos_Judi...|\n",
            "| 29|Female|       Kena Wild|   DSA|102285|   35|Dustin Feagins_Ma...|\n",
            "| 29|  Male| Ernest Rossbach|    DB|111449|   53|Maybell Duguay_Ab...|\n",
            "| 28|Female|  Latia Vanhoose|    DB|122502|   27|Latia Vanhoose_Mi...|\n",
            "| 29|Female|  Latia Vanhoose|    DB|152159|   27|Claude Panos_Sant...|\n",
            "| 28|Female|Mickey Cortright|    DB|192537|   62|Ernest Rossbach_M...|\n",
            "| 28|Female|    Jc Andrepont|   DSA|232060|   58|Billi Clore_Abram...|\n",
            "| 29|Female|    Paris Hutton|   DSA|271472|   99|Sheryll Towler_Al...|\n",
            "| 28|Female|  Dustin Feagins|   DSA|291984|   82|Abram Nagao_Kena ...|\n",
            "| 28|Female|     Anna Santos|    DB|311589|   79|Celeste Lollis_Mi...|\n",
            "| 28|Female|Mickey Cortright|   DSA|342003|   44|Mitzi Seldon_Jean...|\n",
            "| 28|  Male|   Kizzy Brenner|    DB|381712|   36|Paris Hutton_Kena...|\n",
            "| 28|  Male|Toshiko Hillyard|    DB|392218|   47|Leontine Phillips...|\n",
            "| 29|Female|     Anna Santos|   DSA|411479|   42|Kena Wild_Mitzi S...|\n",
            "| 28|Female|  Maybell Duguay|   DSA|452141|   29|Leontine Phillips...|\n",
            "| 29|  Male|    Paris Hutton|    DB|481229|   57|Clementina Menke_...|\n",
            "| 29|Female|    Paris Hutton|   DSA|492159|   60|Nicole Harwood_Ma...|\n",
            "| 28|Female|Mickey Cortright|    DB|551389|   43|Tijuana Kropf_Jen...|\n",
            "+---+------+----------------+------+------+-----+--------------------+\n",
            "only showing top 20 rows\n",
            "\n"
          ]
        }
      ]
    },
    {
      "cell_type": "code",
      "source": [
        "df=spark.read.options(header=True, inferSchema=True).csv(\"/content/StudentData.csv\")\n",
        "df=df.withColumn(\"total marks\",lit(120))"
      ],
      "metadata": {
        "id": "_7GS_BkedsuC"
      },
      "execution_count": null,
      "outputs": []
    },
    {
      "cell_type": "code",
      "source": [
        "df.withColumn(\"average\", lit(col(\"marks\")/col(\"total marks\")))"
      ],
      "metadata": {
        "colab": {
          "base_uri": "https://localhost:8080/"
        },
        "id": "MmW3aPM4fsx4",
        "outputId": "66d8faec-623b-48dc-f078-0b7ca0b46d57"
      },
      "execution_count": null,
      "outputs": [
        {
          "output_type": "execute_result",
          "data": {
            "text/plain": [
              "DataFrame[age: int, gender: string, name: string, course: string, roll: int, marks: int, email: string, total marks: int, average: double]"
            ]
          },
          "metadata": {},
          "execution_count": 31
        }
      ]
    },
    {
      "cell_type": "code",
      "source": [
        "oopdf=df.filter((df.course==\"OOP\") & (df.marks>80))"
      ],
      "metadata": {
        "id": "ZwVOmnHcgMgF"
      },
      "execution_count": null,
      "outputs": []
    },
    {
      "cell_type": "code",
      "source": [
        "clouddf=df.filter((df.course==\"Cloud\") & (df.marks>60))"
      ],
      "metadata": {
        "id": "4rg9rXkvg0qX"
      },
      "execution_count": null,
      "outputs": []
    },
    {
      "cell_type": "code",
      "source": [
        "oopdf.select(\"name\",\"marks\").show()"
      ],
      "metadata": {
        "colab": {
          "base_uri": "https://localhost:8080/"
        },
        "id": "3Q0aKVfUg7VT",
        "outputId": "ee060d85-fa0c-45a3-cf19-cbcc9bb56396"
      },
      "execution_count": null,
      "outputs": [
        {
          "output_type": "stream",
          "name": "stdout",
          "text": [
            "+------------------+-----+\n",
            "|              name|marks|\n",
            "+------------------+-----+\n",
            "|    Alberta Freund|   83|\n",
            "|       Billi Clore|   93|\n",
            "|   Marylee Capasso|   86|\n",
            "|      Claude Panos|   94|\n",
            "|       Donna Yerby|   85|\n",
            "|    Latia Vanhoose|   94|\n",
            "|     Kizzy Brenner|   96|\n",
            "|    Nicole Harwood|   88|\n",
            "|    Jenna Montague|   98|\n",
            "|      Elenore Choy|   90|\n",
            "|       Billi Clore|   81|\n",
            "|   Sebrina Maresca|   81|\n",
            "|       Niki Klimek|   82|\n",
            "|Priscila Tavernier|   99|\n",
            "|    Jalisa Swenson|   92|\n",
            "|      Paris Hutton|   82|\n",
            "| Michelle Ruggiero|   96|\n",
            "|      Judie Chipps|   94|\n",
            "|    Jalisa Swenson|   84|\n",
            "| Leontine Phillips|   86|\n",
            "+------------------+-----+\n",
            "only showing top 20 rows\n",
            "\n"
          ]
        }
      ]
    },
    {
      "cell_type": "code",
      "source": [
        "clouddf.select(\"name\",\"marks\").show()"
      ],
      "metadata": {
        "colab": {
          "base_uri": "https://localhost:8080/"
        },
        "id": "28LSL3QXhdBa",
        "outputId": "b1cf461d-aaca-4310-9137-7c7a19818b56"
      },
      "execution_count": null,
      "outputs": [
        {
          "output_type": "stream",
          "name": "stdout",
          "text": [
            "+----------------+-----+\n",
            "|            name|marks|\n",
            "+----------------+-----+\n",
            "|Toshiko Hillyard|   62|\n",
            "|    Claude Panos|   85|\n",
            "|     Anna Santos|   68|\n",
            "|     Billi Clore|   76|\n",
            "|  Somer Stoecker|   82|\n",
            "|    Judie Chipps|   75|\n",
            "|    Eda Neathery|   91|\n",
            "|  Nicole Harwood|   62|\n",
            "|  Jalisa Swenson|   70|\n",
            "|    Eda Neathery|   69|\n",
            "|  Bonita Higuera|   94|\n",
            "| Hubert Oliveras|   94|\n",
            "|Mickey Cortright|   71|\n",
            "|     Neda Briski|   74|\n",
            "|  Melani Engberg|   99|\n",
            "|Jeannetta Golden|   67|\n",
            "|    Paris Hutton|   79|\n",
            "|    Eda Neathery|   95|\n",
            "|     Neda Briski|   81|\n",
            "|   Tijuana Kropf|   78|\n",
            "+----------------+-----+\n",
            "only showing top 20 rows\n",
            "\n"
          ]
        }
      ]
    },
    {
      "cell_type": "code",
      "source": [
        "df.show()"
      ],
      "metadata": {
        "colab": {
          "base_uri": "https://localhost:8080/"
        },
        "id": "APSK4AfShm9t",
        "outputId": "4348a644-33bf-42ac-c5c9-d28f57803364"
      },
      "execution_count": null,
      "outputs": [
        {
          "output_type": "stream",
          "name": "stdout",
          "text": [
            "+---+------+----------------+------+------+-----+--------------------+-----------+\n",
            "|age|gender|            name|course|  roll|marks|               email|total marks|\n",
            "+---+------+----------------+------+------+-----+--------------------+-----------+\n",
            "| 28|Female| Hubert Oliveras|    DB|  2984|   59|Annika Hoffman_Na...|        120|\n",
            "| 29|Female|Toshiko Hillyard| Cloud| 12899|   62|Margene Moores_Ma...|        120|\n",
            "| 28|  Male|  Celeste Lollis|    PF| 21267|   45|Jeannetta Golden_...|        120|\n",
            "| 29|Female|    Elenore Choy|    DB| 32877|   29|Billi Clore_Mitzi...|        120|\n",
            "| 28|  Male|  Sheryll Towler|   DSA| 41487|   41|Claude Panos_Judi...|        120|\n",
            "| 28|  Male|  Margene Moores|   MVC| 52771|   32|Toshiko Hillyard_...|        120|\n",
            "| 28|  Male|     Neda Briski|   OOP| 61973|   69|Alberta Freund_El...|        120|\n",
            "| 28|Female|    Claude Panos| Cloud| 72409|   85|Sheryll Towler_Al...|        120|\n",
            "| 28|  Male|  Celeste Lollis|   MVC| 81492|   64|Nicole Harwood_Cl...|        120|\n",
            "| 29|  Male|  Cordie Harnois|   OOP| 92882|   51|Judie Chipps_Clem...|        120|\n",
            "| 29|Female|       Kena Wild|   DSA|102285|   35|Dustin Feagins_Ma...|        120|\n",
            "| 29|  Male| Ernest Rossbach|    DB|111449|   53|Maybell Duguay_Ab...|        120|\n",
            "| 28|Female|  Latia Vanhoose|    DB|122502|   27|Latia Vanhoose_Mi...|        120|\n",
            "| 29|Female|  Latia Vanhoose|   MVC|132110|   55|Eda Neathery_Nico...|        120|\n",
            "| 29|  Male|     Neda Briski|    PF|141770|   42|Margene Moores_Mi...|        120|\n",
            "| 29|Female|  Latia Vanhoose|    DB|152159|   27|Claude Panos_Sant...|        120|\n",
            "| 29|  Male|  Loris Crossett|   MVC|161771|   36|Mitzi Seldon_Jenn...|        120|\n",
            "| 29|  Male|  Annika Hoffman|   OOP|171660|   22|Taryn Brownlee_Mi...|        120|\n",
            "| 29|  Male|   Santa Kerfien|    PF|182129|   56|Judie Chipps_Tary...|        120|\n",
            "| 28|Female|Mickey Cortright|    DB|192537|   62|Ernest Rossbach_M...|        120|\n",
            "+---+------+----------------+------+------+-----+--------------------+-----------+\n",
            "only showing top 20 rows\n",
            "\n"
          ]
        }
      ]
    },
    {
      "cell_type": "code",
      "source": [
        "df.dropDuplicates([\"gender\",\"age\"]).show()"
      ],
      "metadata": {
        "colab": {
          "base_uri": "https://localhost:8080/"
        },
        "id": "6W8wrRdlmekV",
        "outputId": "2fc0a013-a069-4ad7-f209-bab9e9d04b92"
      },
      "execution_count": null,
      "outputs": [
        {
          "output_type": "stream",
          "name": "stdout",
          "text": [
            "+---+------+----------------+------+-----+-----+--------------------+-----------+\n",
            "|age|gender|            name|course| roll|marks|               email|total marks|\n",
            "+---+------+----------------+------+-----+-----+--------------------+-----------+\n",
            "| 28|Female| Hubert Oliveras|    DB| 2984|   59|Annika Hoffman_Na...|        120|\n",
            "| 29|Female|Toshiko Hillyard| Cloud|12899|   62|Margene Moores_Ma...|        120|\n",
            "| 28|  Male|  Celeste Lollis|    PF|21267|   45|Jeannetta Golden_...|        120|\n",
            "| 29|  Male|  Cordie Harnois|   OOP|92882|   51|Judie Chipps_Clem...|        120|\n",
            "+---+------+----------------+------+-----+-----+--------------------+-----------+\n",
            "\n"
          ]
        }
      ]
    },
    {
      "cell_type": "code",
      "source": [
        "df.dropDuplicates([\"age\",\"gender\",\"course\"]).count()"
      ],
      "metadata": {
        "colab": {
          "base_uri": "https://localhost:8080/"
        },
        "id": "CKlCZADxnnll",
        "outputId": "1fb4e529-5d5d-41a9-ecd7-296b4ef70f28"
      },
      "execution_count": null,
      "outputs": [
        {
          "output_type": "execute_result",
          "data": {
            "text/plain": [
              "24"
            ]
          },
          "metadata": {},
          "execution_count": 51
        }
      ]
    },
    {
      "cell_type": "code",
      "source": [
        "df=spark.read.options(inferSchema=True, header=True).csv(\"/content/OfficeData.csv\")\n",
        "df.show()"
      ],
      "metadata": {
        "colab": {
          "base_uri": "https://localhost:8080/"
        },
        "id": "C6yvPz7ooi9m",
        "outputId": "b6f1bd28-f31f-4cec-9bdf-d1de93b310b2"
      },
      "execution_count": null,
      "outputs": [
        {
          "output_type": "stream",
          "name": "stdout",
          "text": [
            "+-------------+----------+-----+------+---+-----+\n",
            "|employee_name|department|state|salary|age|bonus|\n",
            "+-------------+----------+-----+------+---+-----+\n",
            "|        James|     Sales|   NY| 90000| 34|10000|\n",
            "|      Michael|     Sales|   NY| 86000| 56|20000|\n",
            "|       Robert|     Sales|   CA| 81000| 30|23000|\n",
            "|        Maria|   Finance|   CA| 90000| 24|23000|\n",
            "|        Raman|   Finance|   CA| 99000| 40|24000|\n",
            "|        Scott|   Finance|   NY| 83000| 36|19000|\n",
            "|          Jen|   Finance|   NY| 79000| 53|15000|\n",
            "|         Jeff| Marketing|   CA| 80000| 25|18000|\n",
            "|        Kumar| Marketing|   NY| 91000| 50|21000|\n",
            "+-------------+----------+-----+------+---+-----+\n",
            "\n"
          ]
        }
      ]
    },
    {
      "cell_type": "code",
      "source": [
        "df.sort(col('bonus')).show()"
      ],
      "metadata": {
        "colab": {
          "base_uri": "https://localhost:8080/"
        },
        "id": "Qm6BdOHmx2Va",
        "outputId": "61fd678f-b595-4098-8cae-1f23be150a98"
      },
      "execution_count": null,
      "outputs": [
        {
          "output_type": "stream",
          "name": "stdout",
          "text": [
            "+-------------+----------+-----+------+---+-----+\n",
            "|employee_name|department|state|salary|age|bonus|\n",
            "+-------------+----------+-----+------+---+-----+\n",
            "|        James|     Sales|   NY| 90000| 34|10000|\n",
            "|          Jen|   Finance|   NY| 79000| 53|15000|\n",
            "|         Jeff| Marketing|   CA| 80000| 25|18000|\n",
            "|        Scott|   Finance|   NY| 83000| 36|19000|\n",
            "|      Michael|     Sales|   NY| 86000| 56|20000|\n",
            "|        Kumar| Marketing|   NY| 91000| 50|21000|\n",
            "|       Robert|     Sales|   CA| 81000| 30|23000|\n",
            "|        Maria|   Finance|   CA| 90000| 24|23000|\n",
            "|        Raman|   Finance|   CA| 99000| 40|24000|\n",
            "+-------------+----------+-----+------+---+-----+\n",
            "\n"
          ]
        }
      ]
    },
    {
      "cell_type": "code",
      "source": [
        "df.sort(df.age.desc(),df.salary.asc()).show()"
      ],
      "metadata": {
        "colab": {
          "base_uri": "https://localhost:8080/"
        },
        "id": "_tP-NbGbyHb1",
        "outputId": "1bc9e3c0-44e4-4978-d4a9-dae810d1dcc5"
      },
      "execution_count": null,
      "outputs": [
        {
          "output_type": "stream",
          "name": "stdout",
          "text": [
            "+-------------+----------+-----+------+---+-----+\n",
            "|employee_name|department|state|salary|age|bonus|\n",
            "+-------------+----------+-----+------+---+-----+\n",
            "|      Michael|     Sales|   NY| 86000| 56|20000|\n",
            "|          Jen|   Finance|   NY| 79000| 53|15000|\n",
            "|        Kumar| Marketing|   NY| 91000| 50|21000|\n",
            "|        Raman|   Finance|   CA| 99000| 40|24000|\n",
            "|        Scott|   Finance|   NY| 83000| 36|19000|\n",
            "|        James|     Sales|   NY| 90000| 34|10000|\n",
            "|       Robert|     Sales|   CA| 81000| 30|23000|\n",
            "|         Jeff| Marketing|   CA| 80000| 25|18000|\n",
            "|        Maria|   Finance|   CA| 90000| 24|23000|\n",
            "+-------------+----------+-----+------+---+-----+\n",
            "\n"
          ]
        }
      ]
    },
    {
      "cell_type": "code",
      "source": [
        "df.sort(df.age.desc(),df.bonus.desc(),df.salary.asc()).show()"
      ],
      "metadata": {
        "colab": {
          "base_uri": "https://localhost:8080/"
        },
        "id": "Oq9ZQz7-yYxM",
        "outputId": "4074f722-b8be-4a1b-8a74-719cce0a7f92"
      },
      "execution_count": null,
      "outputs": [
        {
          "output_type": "stream",
          "name": "stdout",
          "text": [
            "+-------------+----------+-----+------+---+-----+\n",
            "|employee_name|department|state|salary|age|bonus|\n",
            "+-------------+----------+-----+------+---+-----+\n",
            "|      Michael|     Sales|   NY| 86000| 56|20000|\n",
            "|          Jen|   Finance|   NY| 79000| 53|15000|\n",
            "|        Kumar| Marketing|   NY| 91000| 50|21000|\n",
            "|        Raman|   Finance|   CA| 99000| 40|24000|\n",
            "|        Scott|   Finance|   NY| 83000| 36|19000|\n",
            "|        James|     Sales|   NY| 90000| 34|10000|\n",
            "|       Robert|     Sales|   CA| 81000| 30|23000|\n",
            "|         Jeff| Marketing|   CA| 80000| 25|18000|\n",
            "|        Maria|   Finance|   CA| 90000| 24|23000|\n",
            "+-------------+----------+-----+------+---+-----+\n",
            "\n"
          ]
        }
      ]
    },
    {
      "cell_type": "code",
      "source": [
        "df=spark.read.options(header=True, inferSchema=True).csv(\"/content/StudentData.csv\")\n",
        "df.groupBy(\"gender\").sum(\"marks\").show()"
      ],
      "metadata": {
        "colab": {
          "base_uri": "https://localhost:8080/"
        },
        "id": "eFjY33Qxy0xs",
        "outputId": "d964328d-02db-45d6-bd65-9d2750b85b24"
      },
      "execution_count": null,
      "outputs": [
        {
          "output_type": "stream",
          "name": "stdout",
          "text": [
            "+------+----------+\n",
            "|gender|sum(marks)|\n",
            "+------+----------+\n",
            "|Female|     29636|\n",
            "|  Male|     30461|\n",
            "+------+----------+\n",
            "\n"
          ]
        }
      ]
    },
    {
      "cell_type": "code",
      "source": [
        "df.groupBy(\"course\").count().show()"
      ],
      "metadata": {
        "colab": {
          "base_uri": "https://localhost:8080/"
        },
        "id": "PPHoDiVX1hYd",
        "outputId": "bf190589-b246-42ef-d0c2-79ecbf32a32b"
      },
      "execution_count": null,
      "outputs": [
        {
          "output_type": "stream",
          "name": "stdout",
          "text": [
            "+------+-----+\n",
            "|course|count|\n",
            "+------+-----+\n",
            "|    PF|  166|\n",
            "|    DB|  157|\n",
            "|   MVC|  157|\n",
            "|   DSA|  176|\n",
            "| Cloud|  192|\n",
            "|   OOP|  152|\n",
            "+------+-----+\n",
            "\n"
          ]
        }
      ]
    },
    {
      "cell_type": "code",
      "source": [
        "df.groupBy(\"course\",\"gender\").avg(\"marks\").show()"
      ],
      "metadata": {
        "colab": {
          "base_uri": "https://localhost:8080/"
        },
        "id": "W04w1bu22Ibd",
        "outputId": "c5521922-18cb-4f66-c789-24d51f56332d"
      },
      "execution_count": null,
      "outputs": [
        {
          "output_type": "stream",
          "name": "stdout",
          "text": [
            "+------+------+------------------+\n",
            "|course|gender|        avg(marks)|\n",
            "+------+------+------------------+\n",
            "|   OOP|  Male| 60.48571428571429|\n",
            "|    DB|  Male| 61.86585365853659|\n",
            "| Cloud|Female| 59.58490566037736|\n",
            "|   MVC|  Male| 60.94186046511628|\n",
            "|   DSA|Female| 62.48979591836735|\n",
            "|    PF|  Male| 61.44329896907217|\n",
            "|   MVC|Female|61.183098591549296|\n",
            "| Cloud|  Male|59.616279069767444|\n",
            "|    PF|Female| 57.57971014492754|\n",
            "|   DSA|  Male| 61.87179487179487|\n",
            "|    DB|Female|             55.96|\n",
            "|   OOP|Female| 57.09756097560975|\n",
            "+------+------+------------------+\n",
            "\n"
          ]
        }
      ]
    },
    {
      "cell_type": "code",
      "source": [
        "from pyspark.sql.functions import sum,avg,min,max,mean,count\n"
      ],
      "metadata": {
        "id": "dItrgSe62po4"
      },
      "execution_count": null,
      "outputs": []
    },
    {
      "cell_type": "code",
      "source": [
        "df.groupBy(\"course\",\"gender\").agg(count(\"*\").alias(\"total_enrollments\"),sum(\"marks\"),min(\"marks\"),max(\"marks\"),avg(\"marks\")).show()"
      ],
      "metadata": {
        "colab": {
          "base_uri": "https://localhost:8080/"
        },
        "id": "MmhQCh-43eVU",
        "outputId": "f0559085-769b-4f9a-bb4a-df559ac7208d"
      },
      "execution_count": null,
      "outputs": [
        {
          "output_type": "stream",
          "name": "stdout",
          "text": [
            "+------+------+-----------------+----------+----------+----------+------------------+\n",
            "|course|gender|total_enrollments|sum(marks)|min(marks)|max(marks)|        avg(marks)|\n",
            "+------+------+-----------------+----------+----------+----------+------------------+\n",
            "|   OOP|  Male|               70|      4234|        20|        99| 60.48571428571429|\n",
            "|    DB|  Male|               82|      5073|        20|        98| 61.86585365853659|\n",
            "| Cloud|Female|              106|      6316|        20|        99| 59.58490566037736|\n",
            "|   MVC|  Male|               86|      5241|        22|        99| 60.94186046511628|\n",
            "|   DSA|Female|               98|      6124|        20|        99| 62.48979591836735|\n",
            "|    PF|  Male|               97|      5960|        20|        99| 61.44329896907217|\n",
            "|   MVC|Female|               71|      4344|        22|        99|61.183098591549296|\n",
            "| Cloud|  Male|               86|      5127|        21|        97|59.616279069767444|\n",
            "|    PF|Female|               69|      3973|        20|        99| 57.57971014492754|\n",
            "|   DSA|  Male|               78|      4826|        20|        99| 61.87179487179487|\n",
            "|    DB|Female|               75|      4197|        20|        96|             55.96|\n",
            "|   OOP|Female|               82|      4682|        21|        99| 57.09756097560975|\n",
            "+------+------+-----------------+----------+----------+----------+------------------+\n",
            "\n"
          ]
        }
      ]
    },
    {
      "cell_type": "code",
      "source": [
        "from pyspark.sql import SparkSession\n",
        "from pyspark.sql.functions import col,lit,udf\n",
        "from pyspark.sql.functions import sum,avg,min,max,mean,count\n",
        "spark=SparkSession.builder.appName(\"Data frames\").getOrCreate()"
      ],
      "metadata": {
        "id": "rE-NlDA63trD"
      },
      "execution_count": null,
      "outputs": []
    },
    {
      "cell_type": "code",
      "source": [
        "df=spark.read.options(inferSchema=True, header=True).csv(\"/content/StudentData.csv\")"
      ],
      "metadata": {
        "id": "ne_UQXCwALxN"
      },
      "execution_count": null,
      "outputs": []
    },
    {
      "cell_type": "code",
      "source": [
        "df.groupBy(\"course\").agg(count(\"*\").alias(\"enrolled_students\")).show()"
      ],
      "metadata": {
        "colab": {
          "base_uri": "https://localhost:8080/"
        },
        "id": "3zVRKX1kAX9K",
        "outputId": "73a666a7-2813-48bc-f81f-0c6a666e783c"
      },
      "execution_count": null,
      "outputs": [
        {
          "output_type": "stream",
          "name": "stdout",
          "text": [
            "+------+-----------------+\n",
            "|course|enrolled_students|\n",
            "+------+-----------------+\n",
            "|    PF|              166|\n",
            "|    DB|              157|\n",
            "|   MVC|              157|\n",
            "|   DSA|              176|\n",
            "| Cloud|              192|\n",
            "|   OOP|              152|\n",
            "+------+-----------------+\n",
            "\n"
          ]
        }
      ]
    },
    {
      "cell_type": "code",
      "source": [
        "df.groupBy(\"course\",\"gender\").agg(count(\"*\").alias(\"enrolled_students\")).show()"
      ],
      "metadata": {
        "colab": {
          "base_uri": "https://localhost:8080/"
        },
        "id": "MvsQyKdpAfD8",
        "outputId": "569efca4-28c7-44de-ac2d-ea7e8b83e7b6"
      },
      "execution_count": null,
      "outputs": [
        {
          "output_type": "stream",
          "name": "stdout",
          "text": [
            "+------+------+-----------------+\n",
            "|course|gender|enrolled_students|\n",
            "+------+------+-----------------+\n",
            "|   OOP|  Male|               70|\n",
            "|    DB|  Male|               82|\n",
            "| Cloud|Female|              106|\n",
            "|   MVC|  Male|               86|\n",
            "|   DSA|Female|               98|\n",
            "|    PF|  Male|               97|\n",
            "|   MVC|Female|               71|\n",
            "| Cloud|  Male|               86|\n",
            "|    PF|Female|               69|\n",
            "|   DSA|  Male|               78|\n",
            "|    DB|Female|               75|\n",
            "|   OOP|Female|               82|\n",
            "+------+------+-----------------+\n",
            "\n"
          ]
        }
      ]
    },
    {
      "cell_type": "code",
      "source": [
        "df.groupBy(\"course\",\"gender\").agg(sum(\"marks\").alias(\"total_marks\")).show()"
      ],
      "metadata": {
        "colab": {
          "base_uri": "https://localhost:8080/"
        },
        "id": "N8BCayo2A-j5",
        "outputId": "80bdfdda-fec1-4263-a797-57bab4319783"
      },
      "execution_count": null,
      "outputs": [
        {
          "output_type": "stream",
          "name": "stdout",
          "text": [
            "+------+------+-----------+\n",
            "|course|gender|total_marks|\n",
            "+------+------+-----------+\n",
            "|   OOP|  Male|       4234|\n",
            "|    DB|  Male|       5073|\n",
            "| Cloud|Female|       6316|\n",
            "|   MVC|  Male|       5241|\n",
            "|   DSA|Female|       6124|\n",
            "|    PF|  Male|       5960|\n",
            "|   MVC|Female|       4344|\n",
            "| Cloud|  Male|       5127|\n",
            "|    PF|Female|       3973|\n",
            "|   DSA|  Male|       4826|\n",
            "|    DB|Female|       4197|\n",
            "|   OOP|Female|       4682|\n",
            "+------+------+-----------+\n",
            "\n"
          ]
        }
      ]
    },
    {
      "cell_type": "code",
      "source": [
        "df.groupBy(\"course\",\"age\").agg(min(\"marks\"),max(\"marks\"),avg(\"marks\")).show()"
      ],
      "metadata": {
        "colab": {
          "base_uri": "https://localhost:8080/"
        },
        "id": "l5W7NrzQBNUV",
        "outputId": "9cb9e3c2-7393-44c1-f0af-7e81ac8150ea"
      },
      "execution_count": null,
      "outputs": [
        {
          "output_type": "stream",
          "name": "stdout",
          "text": [
            "+------+---+----------+----------+------------------+\n",
            "|course|age|min(marks)|max(marks)|        avg(marks)|\n",
            "+------+---+----------+----------+------------------+\n",
            "|   MVC| 28|        23|        99| 60.44444444444444|\n",
            "|   MVC| 29|        22|        99| 61.56470588235294|\n",
            "| Cloud| 28|        20|        99|             58.08|\n",
            "|    PF| 29|        20|        99|56.275862068965516|\n",
            "|    PF| 28|        20|        98| 63.75949367088607|\n",
            "|   OOP| 29|        20|        99|59.729729729729726|\n",
            "|   DSA| 28|        20|        99|  64.6867469879518|\n",
            "| Cloud| 29|        21|        98|             61.25|\n",
            "|    DB| 28|        21|        98| 58.76829268292683|\n",
            "|   DSA| 29|        20|        99| 60.01075268817204|\n",
            "|   OOP| 28|        23|        99| 57.64102564102564|\n",
            "|    DB| 29|        20|        98|59.346666666666664|\n",
            "+------+---+----------+----------+------------------+\n",
            "\n"
          ]
        }
      ]
    },
    {
      "cell_type": "code",
      "source": [
        "df=spark.read.text(\"/content/WordData.txt\")\n",
        "df.groupBy(\"value\").count().show()"
      ],
      "metadata": {
        "colab": {
          "base_uri": "https://localhost:8080/"
        },
        "id": "68pOS1n1Bh3H",
        "outputId": "16c9997e-f51f-4d74-a665-1076b9db90f4"
      },
      "execution_count": null,
      "outputs": [
        {
          "output_type": "stream",
          "name": "stdout",
          "text": [
            "+------+-----+\n",
            "| value|count|\n",
            "+------+-----+\n",
            "|   Mic|   10|\n",
            "| Chair|   15|\n",
            "|  Book|    5|\n",
            "|Laptop|    5|\n",
            "|   Bag|    5|\n",
            "|Mobile|    5|\n",
            "| Apple|   10|\n",
            "+------+-----+\n",
            "\n"
          ]
        }
      ]
    },
    {
      "cell_type": "code",
      "source": [
        "from pyspark.sql.types import IntegerType\n",
        "df=spark.read.options(header=True, inferSchema=True).csv(\"/content/OfficeData.csv\")\n"
      ],
      "metadata": {
        "id": "E1ru9B0JDH2m"
      },
      "execution_count": null,
      "outputs": []
    },
    {
      "cell_type": "code",
      "source": [
        "def total_sal(sal,bonus):\n",
        "  return sal+bonus\n",
        "\n",
        "totalSalUDF=udf(lambda x,y: total_sal(x,y), IntegerType())\n",
        "df.withColumn(\"total_sal\", totalSalUDF(\"salary\",\"bonus\")).show()"
      ],
      "metadata": {
        "colab": {
          "base_uri": "https://localhost:8080/"
        },
        "id": "hFYIfRFuEjfn",
        "outputId": "12842409-d0e1-4622-f8bc-3b494c843fa4"
      },
      "execution_count": null,
      "outputs": [
        {
          "output_type": "stream",
          "name": "stdout",
          "text": [
            "+-------------+----------+-----+------+---+-----+---------+\n",
            "|employee_name|department|state|salary|age|bonus|total_sal|\n",
            "+-------------+----------+-----+------+---+-----+---------+\n",
            "|        James|     Sales|   NY| 90000| 34|10000|   100000|\n",
            "|      Michael|     Sales|   NY| 86000| 56|20000|   106000|\n",
            "|       Robert|     Sales|   CA| 81000| 30|23000|   104000|\n",
            "|        Maria|   Finance|   CA| 90000| 24|23000|   113000|\n",
            "|        Raman|   Finance|   CA| 99000| 40|24000|   123000|\n",
            "|        Scott|   Finance|   NY| 83000| 36|19000|   102000|\n",
            "|          Jen|   Finance|   NY| 79000| 53|15000|    94000|\n",
            "|         Jeff| Marketing|   CA| 80000| 25|18000|    98000|\n",
            "|        Kumar| Marketing|   NY| 91000| 50|21000|   112000|\n",
            "+-------------+----------+-----+------+---+-----+---------+\n",
            "\n"
          ]
        }
      ]
    },
    {
      "cell_type": "code",
      "source": [
        "from pyspark.sql import SparkSession\n",
        "from pyspark.sql.functions import col,lit,udf\n",
        "from pyspark.sql.functions import sum,avg,min,max,mean,count\n",
        "spark=SparkSession.builder.appName(\"Data frames\").getOrCreate()"
      ],
      "metadata": {
        "id": "_627k-aaFceH"
      },
      "execution_count": null,
      "outputs": []
    },
    {
      "cell_type": "code",
      "source": [
        "df=spark.read.options(inferSchema=True, header=True).csv(\"/content/OfficeData.csv\")"
      ],
      "metadata": {
        "id": "4RJKPhVgpHXp"
      },
      "execution_count": null,
      "outputs": []
    },
    {
      "cell_type": "code",
      "source": [
        "df.show()"
      ],
      "metadata": {
        "colab": {
          "base_uri": "https://localhost:8080/"
        },
        "id": "9KenysYqpKxz",
        "outputId": "2bd7b7f4-359c-48d3-d2d9-e4e0fc43404b"
      },
      "execution_count": null,
      "outputs": [
        {
          "output_type": "stream",
          "name": "stdout",
          "text": [
            "+-------------+----------+-----+------+---+-----+\n",
            "|employee_name|department|state|salary|age|bonus|\n",
            "+-------------+----------+-----+------+---+-----+\n",
            "|        James|     Sales|   NY| 90000| 34|10000|\n",
            "|      Michael|     Sales|   NY| 86000| 56|20000|\n",
            "|       Robert|     Sales|   CA| 81000| 30|23000|\n",
            "|        Maria|   Finance|   CA| 90000| 24|23000|\n",
            "|        Raman|   Finance|   CA| 99000| 40|24000|\n",
            "|        Scott|   Finance|   NY| 83000| 36|19000|\n",
            "|          Jen|   Finance|   NY| 79000| 53|15000|\n",
            "|         Jeff| Marketing|   CA| 80000| 25|18000|\n",
            "|        Kumar| Marketing|   NY| 91000| 50|21000|\n",
            "+-------------+----------+-----+------+---+-----+\n",
            "\n"
          ]
        }
      ]
    },
    {
      "cell_type": "code",
      "source": [
        "def sal_increment(sal, bonus, state):\n",
        "  increment=((0.1*sal)+((0.05)*bonus)) if state==\"NY\" else ((0.12*sal)+((0.03)*bonus)) if state==\"CA\" else None\n",
        "  return increment\n",
        "salIncrementUDF=udf(lambda sal,bonus,state: sal_increment(sal,bonus,state))\n",
        "df=df.withColumn(\"increment\",salIncrementUDF(col(\"salary\"),col(\"bonus\"),col(\"state\")))"
      ],
      "metadata": {
        "id": "Z8GkcQ9VpRrE"
      },
      "execution_count": null,
      "outputs": []
    },
    {
      "cell_type": "code",
      "source": [
        "df.show()"
      ],
      "metadata": {
        "colab": {
          "base_uri": "https://localhost:8080/"
        },
        "id": "mrM8QXynq_mH",
        "outputId": "bf017a75-747f-44e7-c76d-3db9df2c7e21"
      },
      "execution_count": null,
      "outputs": [
        {
          "output_type": "stream",
          "name": "stdout",
          "text": [
            "+-------------+----------+-----+------+---+-----+---------+\n",
            "|employee_name|department|state|salary|age|bonus|increment|\n",
            "+-------------+----------+-----+------+---+-----+---------+\n",
            "|        James|     Sales|   NY| 90000| 34|10000|   9500.0|\n",
            "|      Michael|     Sales|   NY| 86000| 56|20000|   9600.0|\n",
            "|       Robert|     Sales|   CA| 81000| 30|23000|  10410.0|\n",
            "|        Maria|   Finance|   CA| 90000| 24|23000|  11490.0|\n",
            "|        Raman|   Finance|   CA| 99000| 40|24000|  12600.0|\n",
            "|        Scott|   Finance|   NY| 83000| 36|19000|   9250.0|\n",
            "|          Jen|   Finance|   NY| 79000| 53|15000|   8650.0|\n",
            "|         Jeff| Marketing|   CA| 80000| 25|18000|  10140.0|\n",
            "|        Kumar| Marketing|   NY| 91000| 50|21000|  10150.0|\n",
            "+-------------+----------+-----+------+---+-----+---------+\n",
            "\n"
          ]
        }
      ]
    },
    {
      "cell_type": "code",
      "source": [
        "rdd=df.rdd\n",
        "type(rdd)"
      ],
      "metadata": {
        "colab": {
          "base_uri": "https://localhost:8080/",
          "height": 173
        },
        "id": "9YWYPUiQr-5k",
        "outputId": "744c87dd-ec2e-48c7-d720-f79d18d0712d"
      },
      "execution_count": null,
      "outputs": [
        {
          "output_type": "execute_result",
          "data": {
            "text/plain": [
              "pyspark.rdd.RDD"
            ],
            "text/html": [
              "<div style=\"max-width:800px; border: 1px solid var(--colab-border-color);\"><style>\n",
              "      pre.function-repr-contents {\n",
              "        overflow-x: auto;\n",
              "        padding: 8px 12px;\n",
              "        max-height: 500px;\n",
              "      }\n",
              "\n",
              "      pre.function-repr-contents.function-repr-contents-collapsed {\n",
              "        cursor: pointer;\n",
              "        max-height: 100px;\n",
              "      }\n",
              "    </style>\n",
              "    <pre style=\"white-space: initial; background:\n",
              "         var(--colab-secondary-surface-color); padding: 8px 12px;\n",
              "         border-bottom: 1px solid var(--colab-border-color);\"><b>pyspark.rdd.RDD</b><br/>def __init__(jrdd: &#x27;JavaObject&#x27;, ctx: &#x27;SparkContext&#x27;, jrdd_deserializer: Serializer=AutoBatchedSerializer(CPickleSerializer()))</pre><pre class=\"function-repr-contents function-repr-contents-collapsed\" style=\"\"><a class=\"filepath\" style=\"display:none\" href=\"#\">/usr/local/lib/python3.11/dist-packages/pyspark/rdd.py</a>A Resilient Distributed Dataset (RDD), the basic abstraction in Spark.\n",
              "Represents an immutable, partitioned collection of elements that can be\n",
              "operated on in parallel.</pre>\n",
              "      <script>\n",
              "      if (google.colab.kernel.accessAllowed && google.colab.files && google.colab.files.view) {\n",
              "        for (const element of document.querySelectorAll('.filepath')) {\n",
              "          element.style.display = 'block'\n",
              "          element.onclick = (event) => {\n",
              "            event.preventDefault();\n",
              "            event.stopPropagation();\n",
              "            google.colab.files.view(element.textContent, 336);\n",
              "          };\n",
              "        }\n",
              "      }\n",
              "      for (const element of document.querySelectorAll('.function-repr-contents')) {\n",
              "        element.onclick = (event) => {\n",
              "          event.preventDefault();\n",
              "          event.stopPropagation();\n",
              "          element.classList.toggle('function-repr-contents-collapsed');\n",
              "        };\n",
              "      }\n",
              "      </script>\n",
              "      </div>"
            ]
          },
          "metadata": {},
          "execution_count": 15
        }
      ]
    },
    {
      "cell_type": "code",
      "source": [
        "from pyspark.sql import SparkSession\n",
        "from pyspark.sql.types import StructField,StructType,IntegerType,StringType\n",
        "from pyspark.sql.functions import lit,col,udf,count,max,min,avg,sum"
      ],
      "metadata": {
        "id": "WoIT0T6m_SWr"
      },
      "execution_count": null,
      "outputs": []
    },
    {
      "cell_type": "code",
      "source": [
        "spark=SparkSession.builder.appName(\"Sql\").getOrCreate()\n",
        "df=spark.read.options(header=True, inferSchema=True).csv(\"/content/StudentData.csv\")"
      ],
      "metadata": {
        "id": "HB5f5kNvGWXx"
      },
      "execution_count": null,
      "outputs": []
    },
    {
      "cell_type": "code",
      "source": [
        "df.createOrReplaceTempView(\"student\")"
      ],
      "metadata": {
        "id": "wVPrNpLRG619"
      },
      "execution_count": null,
      "outputs": []
    },
    {
      "cell_type": "code",
      "source": [
        "spark.sql(\"select name from student\").show()"
      ],
      "metadata": {
        "colab": {
          "base_uri": "https://localhost:8080/"
        },
        "id": "OlOppd7vHJzO",
        "outputId": "90fb323e-902e-4193-b058-922ec4b2e646"
      },
      "execution_count": null,
      "outputs": [
        {
          "output_type": "stream",
          "name": "stdout",
          "text": [
            "+----------------+\n",
            "|            name|\n",
            "+----------------+\n",
            "| Hubert Oliveras|\n",
            "|Toshiko Hillyard|\n",
            "|  Celeste Lollis|\n",
            "|    Elenore Choy|\n",
            "|  Sheryll Towler|\n",
            "|  Margene Moores|\n",
            "|     Neda Briski|\n",
            "|    Claude Panos|\n",
            "|  Celeste Lollis|\n",
            "|  Cordie Harnois|\n",
            "|       Kena Wild|\n",
            "| Ernest Rossbach|\n",
            "|  Latia Vanhoose|\n",
            "|  Latia Vanhoose|\n",
            "|     Neda Briski|\n",
            "|  Latia Vanhoose|\n",
            "|  Loris Crossett|\n",
            "|  Annika Hoffman|\n",
            "|   Santa Kerfien|\n",
            "|Mickey Cortright|\n",
            "+----------------+\n",
            "only showing top 20 rows\n",
            "\n"
          ]
        }
      ]
    },
    {
      "cell_type": "code",
      "source": [
        "df.write.mode(\"overwrite\").options(header=True).csv(\"/content/outputs/StudentData/\")"
      ],
      "metadata": {
        "id": "uEfgJIw0HcY1"
      },
      "execution_count": null,
      "outputs": []
    },
    {
      "cell_type": "code",
      "source": [
        "#Modes in writing file\n",
        "#overwrite mode\n",
        "#append mode\n",
        "#ignore\n",
        "#error"
      ],
      "metadata": {
        "id": "VqEnYSSNIejh"
      },
      "execution_count": null,
      "outputs": []
    },
    {
      "cell_type": "code",
      "source": [
        "df=spark.read.options(header=True, inferSchema=True).csv(\"/content/OfficeDataProject.csv\")"
      ],
      "metadata": {
        "id": "qtBoRCIAJTtX"
      },
      "execution_count": null,
      "outputs": []
    },
    {
      "cell_type": "code",
      "source": [
        "df.count()"
      ],
      "metadata": {
        "colab": {
          "base_uri": "https://localhost:8080/"
        },
        "id": "fGjQ0RSHKlZK",
        "outputId": "c9dfbf74-19fb-476a-c19c-8acfc8a55c24"
      },
      "execution_count": null,
      "outputs": [
        {
          "output_type": "execute_result",
          "data": {
            "text/plain": [
              "1000"
            ]
          },
          "metadata": {},
          "execution_count": 14
        }
      ]
    },
    {
      "cell_type": "code",
      "source": [
        "df.dropDuplicates([\"department\"]).count()"
      ],
      "metadata": {
        "colab": {
          "base_uri": "https://localhost:8080/"
        },
        "id": "mjPBhN-wKoWc",
        "outputId": "fdc460e8-f277-4004-aafc-edd4aaa87ce9"
      },
      "execution_count": null,
      "outputs": [
        {
          "output_type": "execute_result",
          "data": {
            "text/plain": [
              "6"
            ]
          },
          "metadata": {},
          "execution_count": 17
        }
      ]
    },
    {
      "cell_type": "code",
      "source": [
        "df.dropDuplicates([\"department\"]).select(\"department\").show()"
      ],
      "metadata": {
        "colab": {
          "base_uri": "https://localhost:8080/"
        },
        "id": "7T4RiAJpLMGD",
        "outputId": "b86cfb09-49b7-4276-f189-cc7127d2c6fc"
      },
      "execution_count": null,
      "outputs": [
        {
          "output_type": "stream",
          "name": "stdout",
          "text": [
            "+----------+\n",
            "|department|\n",
            "+----------+\n",
            "|     Sales|\n",
            "|        HR|\n",
            "|   Finance|\n",
            "|Purchasing|\n",
            "| Marketing|\n",
            "|  Accounts|\n",
            "+----------+\n",
            "\n"
          ]
        }
      ]
    },
    {
      "cell_type": "code",
      "source": [
        "df.groupBy(\"department\").agg(count(\"*\").alias(\"employee_per_dept\")).show()"
      ],
      "metadata": {
        "colab": {
          "base_uri": "https://localhost:8080/"
        },
        "id": "PXzPj_1BLorJ",
        "outputId": "faa1a644-dfda-4c84-f25d-318e45fa573e"
      },
      "execution_count": null,
      "outputs": [
        {
          "output_type": "stream",
          "name": "stdout",
          "text": [
            "+----------+-----------------+\n",
            "|department|employee_per_dept|\n",
            "+----------+-----------------+\n",
            "|     Sales|              169|\n",
            "|        HR|              171|\n",
            "|   Finance|              162|\n",
            "|Purchasing|              166|\n",
            "| Marketing|              170|\n",
            "|  Accounts|              162|\n",
            "+----------+-----------------+\n",
            "\n"
          ]
        }
      ]
    },
    {
      "cell_type": "code",
      "source": [
        "df.groupBy(\"state\").agg(count(\"*\").alias(\"emp_per_state\")).show()"
      ],
      "metadata": {
        "colab": {
          "base_uri": "https://localhost:8080/"
        },
        "id": "6GAoTpFVL2zi",
        "outputId": "d1d1aaa8-416e-408f-9da9-5dceebe26e86"
      },
      "execution_count": null,
      "outputs": [
        {
          "output_type": "stream",
          "name": "stdout",
          "text": [
            "+-----+-------------+\n",
            "|state|emp_per_state|\n",
            "+-----+-------------+\n",
            "|   LA|          205|\n",
            "|   CA|          205|\n",
            "|   WA|          208|\n",
            "|   NY|          173|\n",
            "|   AK|          209|\n",
            "+-----+-------------+\n",
            "\n"
          ]
        }
      ]
    },
    {
      "cell_type": "code",
      "source": [
        "df.groupBy(\"state\",\"department\").agg(count(\"*\").alias(\"emp_per_state\")).show()"
      ],
      "metadata": {
        "colab": {
          "base_uri": "https://localhost:8080/"
        },
        "id": "N2EuzshSMnQN",
        "outputId": "6b955c7c-758e-41f6-e06c-5ff04ef40b55"
      },
      "execution_count": null,
      "outputs": [
        {
          "output_type": "stream",
          "name": "stdout",
          "text": [
            "+-----+----------+-------------+\n",
            "|state|department|emp_per_state|\n",
            "+-----+----------+-------------+\n",
            "|   CA|     Sales|           42|\n",
            "|   CA| Marketing|           33|\n",
            "|   NY|  Accounts|           34|\n",
            "|   NY|     Sales|           27|\n",
            "|   CA|   Finance|           35|\n",
            "|   CA|  Accounts|           35|\n",
            "|   CA|Purchasing|           32|\n",
            "|   WA|        HR|           47|\n",
            "|   AK|Purchasing|           30|\n",
            "|   WA|  Accounts|           27|\n",
            "|   WA|Purchasing|           38|\n",
            "|   AK|     Sales|           38|\n",
            "|   AK|  Accounts|           37|\n",
            "|   WA| Marketing|           39|\n",
            "|   LA|        HR|           41|\n",
            "|   LA|     Sales|           35|\n",
            "|   AK|        HR|           25|\n",
            "|   LA|   Finance|           29|\n",
            "|   AK|   Finance|           37|\n",
            "|   LA|Purchasing|           45|\n",
            "+-----+----------+-------------+\n",
            "only showing top 20 rows\n",
            "\n"
          ]
        }
      ]
    },
    {
      "cell_type": "code",
      "source": [
        "df.groupBy(\"department\").agg(min(\"salary\").alias(\"min_sal_dept\"),max(\"salary\").alias(\"max_sal_dept\")).sort(col(\"min_sal_dept\").asc(),col(\"max_sal_dept\").asc()).show()"
      ],
      "metadata": {
        "colab": {
          "base_uri": "https://localhost:8080/"
        },
        "id": "qrQNXHZdM4zr",
        "outputId": "65b4f87c-d8fe-4fa3-b534-f0761fde325f"
      },
      "execution_count": null,
      "outputs": [
        {
          "output_type": "stream",
          "name": "stdout",
          "text": [
            "+----------+------------+------------+\n",
            "|department|min_sal_dept|max_sal_dept|\n",
            "+----------+------------+------------+\n",
            "|   Finance|        1006|        9899|\n",
            "|  Accounts|        1007|        9890|\n",
            "|        HR|        1013|        9982|\n",
            "| Marketing|        1031|        9974|\n",
            "|     Sales|        1103|        9982|\n",
            "|Purchasing|        1105|        9985|\n",
            "+----------+------------+------------+\n",
            "\n"
          ]
        }
      ]
    },
    {
      "cell_type": "code",
      "source": [
        "avgBonus=df.filter(df.state==\"NY\").groupBy(\"state\").agg(avg(\"bonus\").alias(\"avg_bonus\")).select(\"avg_bonus\").collect()[0]['avg_bonus']"
      ],
      "metadata": {
        "id": "W4zmeqNvNea0"
      },
      "execution_count": null,
      "outputs": []
    },
    {
      "cell_type": "code",
      "source": [
        "df.filter((df.state==\"NY\") & (df.department==\"Finance\") & (df.bonus>avgBonus)).show()"
      ],
      "metadata": {
        "colab": {
          "base_uri": "https://localhost:8080/"
        },
        "id": "R40LG3ldN6JX",
        "outputId": "30aca56a-9a42-49a3-e972-2cc6e0707efd"
      },
      "execution_count": null,
      "outputs": [
        {
          "output_type": "stream",
          "name": "stdout",
          "text": [
            "+-----------+--------------------+----------+-----+------+---+-----+\n",
            "|employee_id|       employee_name|department|state|salary|age|bonus|\n",
            "+-----------+--------------------+----------+-----+------+---+-----+\n",
            "|       1035|       Vivan Sifford|   Finance|   NY|  1129| 35| 1261|\n",
            "|       1073|      Herder Gallman|   Finance|   NY|  1988| 31| 1402|\n",
            "|       1082|          Nena Rocha|   Finance|   NY|  3417| 25| 1647|\n",
            "|       1087|       Leif Lemaster|   Finance|   NY|  8642| 45| 1782|\n",
            "|       1100|Ellingsworth Meli...|   Finance|   NY|  7845| 32| 1358|\n",
            "|       1127|        Escoto Gilma|   Finance|   NY|  3426| 41| 1285|\n",
            "|       1161|     Georgeanna Laub|   Finance|   NY|  2469| 26| 1679|\n",
            "|       1175|     Durio Tenenbaum|   Finance|   NY|  2253| 42| 1684|\n",
            "|       1180|       Juliana Grigg|   Finance|   NY|  8178| 42| 1617|\n",
            "|       1215|        Tiffani Benz|   Finance|   NY|  1665| 41| 1969|\n",
            "|       1220|          Nitz Ilana|   Finance|   NY|  2443| 50| 1342|\n",
            "|       1342|   Phylicia Antonina|   Finance|   NY|  8626| 30| 1857|\n",
            "|       1414|         Durio Janey|   Finance|   NY|  2992| 46| 1733|\n",
            "|       1660|       Melissia Jere|   Finance|   NY|  9201| 21| 1533|\n",
            "|       1737|      Yukiko Kreamer|   Finance|   NY|  7396| 20| 1332|\n",
            "|       1738|      Nena Kensinger|   Finance|   NY|  8534| 41| 1610|\n",
            "|       1815|      Antonina Ilana|   Finance|   NY|  2944| 28| 1718|\n",
            "+-----------+--------------------+----------+-----+------+---+-----+\n",
            "\n"
          ]
        }
      ]
    },
    {
      "cell_type": "code",
      "source": [
        "def incrementSal(age,sal):\n",
        "  sal= 500+sal if age>45 else sal\n",
        "  return sal\n",
        "incrementUDF= udf(lambda age,sal: incrementSal(age,sal), IntegerType())\n",
        "df.show()\n",
        "df.withColumn(\"salary\", incrementUDF(col(\"age\"),col(\"salary\"))).show()"
      ],
      "metadata": {
        "colab": {
          "base_uri": "https://localhost:8080/"
        },
        "id": "E67ah1rhXK_N",
        "outputId": "dce41134-c433-4b50-fcae-67c713675a4c"
      },
      "execution_count": null,
      "outputs": [
        {
          "output_type": "stream",
          "name": "stdout",
          "text": [
            "+-----------+-------------------+----------+-----+------+---+-----+\n",
            "|employee_id|      employee_name|department|state|salary|age|bonus|\n",
            "+-----------+-------------------+----------+-----+------+---+-----+\n",
            "|       1000|          Nitz Leif| Marketing|   CA|  6131| 26|  543|\n",
            "|       1001|    Melissia Dedman|   Finance|   AK|  4027| 43| 1290|\n",
            "|       1002|  Rudolph Barringer|        HR|   LA|  3122| 43| 1445|\n",
            "|       1003|        Tamra Amber|  Accounts|   AK|  5717| 47| 1291|\n",
            "|       1004|        Mullan Nitz|Purchasing|   CA|  5685| 34| 1394|\n",
            "|       1005|      Zollner Karie|  Accounts|   CA|  2843| 27| 1078|\n",
            "|       1006|Kaczorowski Zollner|     Sales|   CA|  7201| 21| 1834|\n",
            "|       1007|      Nakano Locust| Marketing|   LA|  3444| 23| 1823|\n",
            "|       1008|  Recalde Kensinger|  Accounts|   LA|  3704| 48| 1330|\n",
            "|       1009|        Imai Hallie|  Accounts|   AK|  5061| 38| 1557|\n",
            "|       1010|    Debroah Gallman|  Accounts|   NY|  9308| 35|  817|\n",
            "|       1011|   Barringer Escoto|Purchasing|   WA|  1685| 49| 1706|\n",
            "|       1012|      Soules Coogan|  Accounts|   AK|  8330| 43| 1914|\n",
            "|       1013|      Luisa Suzanne|  Accounts|   CA|  1151| 37| 1095|\n",
            "|       1014|      Marvis Cobian|Purchasing|   NY|  5061| 41| 1765|\n",
            "|       1015|   Cobian Kensinger|     Sales|   LA|  1983| 21|  632|\n",
            "|       1016|      Gilma Margret| Marketing|   CA|  2919| 45| 1762|\n",
            "|       1017| Ellingsworth Ilana|  Accounts|   WA|  9614| 26| 1964|\n",
            "|       1018| Vankirk Jacquelyne|Purchasing|   NY|  8636| 47| 1192|\n",
            "|       1019|    Zollner Juliana|        HR|   NY|  9739| 30| 1119|\n",
            "+-----------+-------------------+----------+-----+------+---+-----+\n",
            "only showing top 20 rows\n",
            "\n",
            "+-----------+-------------------+----------+-----+------+---+-----+\n",
            "|employee_id|      employee_name|department|state|salary|age|bonus|\n",
            "+-----------+-------------------+----------+-----+------+---+-----+\n",
            "|       1000|          Nitz Leif| Marketing|   CA|  6131| 26|  543|\n",
            "|       1001|    Melissia Dedman|   Finance|   AK|  4027| 43| 1290|\n",
            "|       1002|  Rudolph Barringer|        HR|   LA|  3122| 43| 1445|\n",
            "|       1003|        Tamra Amber|  Accounts|   AK|  6217| 47| 1291|\n",
            "|       1004|        Mullan Nitz|Purchasing|   CA|  5685| 34| 1394|\n",
            "|       1005|      Zollner Karie|  Accounts|   CA|  2843| 27| 1078|\n",
            "|       1006|Kaczorowski Zollner|     Sales|   CA|  7201| 21| 1834|\n",
            "|       1007|      Nakano Locust| Marketing|   LA|  3444| 23| 1823|\n",
            "|       1008|  Recalde Kensinger|  Accounts|   LA|  4204| 48| 1330|\n",
            "|       1009|        Imai Hallie|  Accounts|   AK|  5061| 38| 1557|\n",
            "|       1010|    Debroah Gallman|  Accounts|   NY|  9308| 35|  817|\n",
            "|       1011|   Barringer Escoto|Purchasing|   WA|  2185| 49| 1706|\n",
            "|       1012|      Soules Coogan|  Accounts|   AK|  8330| 43| 1914|\n",
            "|       1013|      Luisa Suzanne|  Accounts|   CA|  1151| 37| 1095|\n",
            "|       1014|      Marvis Cobian|Purchasing|   NY|  5061| 41| 1765|\n",
            "|       1015|   Cobian Kensinger|     Sales|   LA|  1983| 21|  632|\n",
            "|       1016|      Gilma Margret| Marketing|   CA|  2919| 45| 1762|\n",
            "|       1017| Ellingsworth Ilana|  Accounts|   WA|  9614| 26| 1964|\n",
            "|       1018| Vankirk Jacquelyne|Purchasing|   NY|  9136| 47| 1192|\n",
            "|       1019|    Zollner Juliana|        HR|   NY|  9739| 30| 1119|\n",
            "+-----------+-------------------+----------+-----+------+---+-----+\n",
            "only showing top 20 rows\n",
            "\n"
          ]
        }
      ]
    },
    {
      "cell_type": "code",
      "source": [
        "df.filter(df.age>45).write.options(header=True).mode(\"overwrite\").csv(\"/content/outputs/employee\")"
      ],
      "metadata": {
        "id": "vRS21QaXYsob"
      },
      "execution_count": null,
      "outputs": []
    },
    {
      "cell_type": "code",
      "source": [],
      "metadata": {
        "id": "NHibKnMQaRVd"
      },
      "execution_count": null,
      "outputs": []
    }
  ]
}